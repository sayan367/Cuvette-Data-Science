{
 "cells": [
  {
   "cell_type": "markdown",
   "metadata": {
    "id": "bWICTVd_RMFr"
   },
   "source": [
    "# Exercise on Sets"
   ]
  },
  {
   "cell_type": "markdown",
   "metadata": {
    "id": "G1RkVkDWRMFv"
   },
   "source": [
    "###  Sets"
   ]
  },
  {
   "cell_type": "markdown",
   "metadata": {
    "id": "CG6zseMHRMFv"
   },
   "source": [
    "\n",
    "\n",
    "**`Question:`** Create a set called \"s\" containing the following elements:\n",
    "\n",
    "3, 4, 'data', 'science'\n",
    "\n",
    "\n"
   ]
  },
  {
   "cell_type": "code",
   "execution_count": 1,
   "metadata": {
    "id": "fOtAA0j5RMFw"
   },
   "outputs": [],
   "source": [
    "# CODE HERE\n",
    "s = {3, 4, 'data', 'science'}\n"
   ]
  },
  {
   "cell_type": "markdown",
   "metadata": {
    "id": "j5ja-7FERMFz"
   },
   "source": [
    "**`Question:`** Add the element 'MachineLearning' to the set \"s\".\n"
   ]
  },
  {
   "cell_type": "code",
   "execution_count": 3,
   "metadata": {
    "id": "bc64MjKoRMFz"
   },
   "outputs": [],
   "source": [
    "# CODE HERE\n",
    "s.add('MachineLearning')\n"
   ]
  },
  {
   "cell_type": "code",
   "execution_count": 3,
   "metadata": {
    "id": "FDpykUdPRMF0"
   },
   "outputs": [],
   "source": []
  },
  {
   "cell_type": "markdown",
   "metadata": {
    "id": "aGUxrgx8RMF1"
   },
   "source": [
    "**`Question:`** Create another set called \"sc\" with the following elements:\n",
    "\n",
    "3, 4, 'data', 'MachineLearning'\n"
   ]
  },
  {
   "cell_type": "code",
   "execution_count": 5,
   "metadata": {
    "id": "WzZOzQxkRMF1"
   },
   "outputs": [],
   "source": [
    "# CODE HERE\n",
    "sc = {3, 4, 'data', 'MachineLearning'}\n",
    "\n"
   ]
  },
  {
   "cell_type": "code",
   "execution_count": 4,
   "metadata": {
    "id": "8dcXfAQ8RMF2"
   },
   "outputs": [],
   "source": []
  },
  {
   "cell_type": "markdown",
   "metadata": {
    "id": "9be9f6k6RMF3"
   },
   "source": [
    "**`Question:`** Find the difference between the two sets \"s\" and \"sc\".\n",
    "\n",
    "`s - sc`\n"
   ]
  },
  {
   "cell_type": "code",
   "execution_count": 7,
   "metadata": {
    "id": "a_QnUeW5RMF3"
   },
   "outputs": [
    {
     "name": "stdout",
     "output_type": "stream",
     "text": [
      "{'science'}\n"
     ]
    }
   ],
   "source": [
    "# CODE HERE\n",
    "s = {3, 4, 'data', 'science', 'MachineLearning'}\n",
    "sc = {3, 4, 'data', 'MachineLearning'}\n",
    "difference = s - sc\n",
    "print(difference)\n",
    "\n"
   ]
  },
  {
   "cell_type": "code",
   "execution_count": 5,
   "metadata": {
    "id": "7wU-v8yLRMF4"
   },
   "outputs": [],
   "source": []
  },
  {
   "cell_type": "markdown",
   "metadata": {
    "id": "C8VPyImxRMF4"
   },
   "source": [
    "> **`Question:` remove 2 from set s**"
   ]
  },
  {
   "cell_type": "code",
   "execution_count": 9,
   "metadata": {
    "id": "x7Su8bSzRMF4"
   },
   "outputs": [
    {
     "name": "stdout",
     "output_type": "stream",
     "text": [
      "{'data', 3, 4, 'MachineLearning', 'science'}\n"
     ]
    }
   ],
   "source": [
    "# Create the initial set\n",
    "s = {3, 4, 'data', 'science', 'MachineLearning'}\n",
    "\n",
    "# Safely remove 2 from the set\n",
    "s.discard(2)\n",
    "\n",
    "# Print the resulting set\n",
    "print(s)\n"
   ]
  },
  {
   "cell_type": "code",
   "execution_count": 6,
   "metadata": {
    "id": "Xs3ClkyURMF5"
   },
   "outputs": [],
   "source": [
    "# CODE HERE\n"
   ]
  },
  {
   "cell_type": "code",
   "execution_count": 6,
   "metadata": {
    "id": "g_6QuuSyRMF5"
   },
   "outputs": [],
   "source": []
  },
  {
   "cell_type": "markdown",
   "metadata": {
    "id": "pMwK1T3pRMF5"
   },
   "source": [
    "> **`Question:`Print common element in two sets s and sc**\n",
    "\n",
    "s intersection sc"
   ]
  },
  {
   "cell_type": "code",
   "execution_count": 11,
   "metadata": {
    "id": "sZ6H3rd8RMF6"
   },
   "outputs": [
    {
     "name": "stdout",
     "output_type": "stream",
     "text": [
      "{'data', 'MachineLearning', 3, 4}\n"
     ]
    }
   ],
   "source": [
    "# CODE HERE\n",
    "# Define the sets\n",
    "s = {3, 4, 'data', 'science', 'MachineLearning'}\n",
    "sc = {3, 4, 'data', 'MachineLearning'}\n",
    "\n",
    "# Print common elements using intersection\n",
    "print(s & sc)\n",
    "\n"
   ]
  },
  {
   "cell_type": "code",
   "execution_count": 7,
   "metadata": {
    "id": "MseeqbSJRMF6"
   },
   "outputs": [],
   "source": []
  },
  {
   "cell_type": "markdown",
   "metadata": {
    "id": "l0KudeFkRMF6"
   },
   "source": [
    "> **`Question:`Print all element in two sets**\n",
    "\n",
    "s union sc"
   ]
  },
  {
   "cell_type": "code",
   "execution_count": 13,
   "metadata": {
    "id": "2zyKSdOrRMF6"
   },
   "outputs": [
    {
     "name": "stdout",
     "output_type": "stream",
     "text": [
      "{3, 4, 'MachineLearning', 'data', 'science'}\n"
     ]
    }
   ],
   "source": [
    "# CODE HERE\n",
    "# Define the sets\n",
    "s = {3, 4, 'data', 'science', 'MachineLearning'}\n",
    "sc = {3, 4, 'data', 'MachineLearning'}\n",
    "\n",
    "# Print all elements using union\n",
    "print(s | sc)\n"
   ]
  },
  {
   "cell_type": "code",
   "execution_count": 8,
   "metadata": {
    "id": "JjOJN9k4RMF7"
   },
   "outputs": [],
   "source": []
  },
  {
   "cell_type": "markdown",
   "metadata": {
    "id": "RBgceHl-RMF7"
   },
   "source": [
    "**`Question:`** Add a list of elements to a set  \n",
    "- `vegetables = {\"carrot\", \"potato\", \"tomato\"}`  \n",
    "- `more_vegetables = ['onion', 'broccoli', 'spinach']`\n"
   ]
  },
  {
   "cell_type": "code",
   "execution_count": 15,
   "metadata": {
    "id": "UzOJMUatRMF7"
   },
   "outputs": [
    {
     "name": "stdout",
     "output_type": "stream",
     "text": [
      "{'tomato', 'broccoli', 'potato', 'spinach', 'onion', 'carrot'}\n"
     ]
    }
   ],
   "source": [
    "# CODE HERE\n",
    "# Define the set and list\n",
    "vegetables = {\"carrot\", \"potato\", \"tomato\"}\n",
    "more_vegetables = ['onion', 'broccoli', 'spinach']\n",
    "\n",
    "# Add the list elements to the set\n",
    "vegetables.update(more_vegetables)\n",
    "\n",
    "# Print the updated set\n",
    "print(vegetables)\n",
    "\n"
   ]
  },
  {
   "cell_type": "code",
   "execution_count": 9,
   "metadata": {
    "id": "LNXcn5uCRMF8"
   },
   "outputs": [],
   "source": []
  },
  {
   "cell_type": "markdown",
   "metadata": {
    "id": "hzB8JFHtRMF8"
   },
   "source": [
    "**`Question:`Remove items 10, 20, 30 from the following set at once**\n",
    "- set1 = {10, 20, 30, 40, 50}"
   ]
  },
  {
   "cell_type": "code",
   "execution_count": 17,
   "metadata": {
    "id": "FBMTJPfVRMF8"
   },
   "outputs": [
    {
     "name": "stdout",
     "output_type": "stream",
     "text": [
      "{50, 40}\n"
     ]
    }
   ],
   "source": [
    "# CODE HERE\n",
    "# Define the set\n",
    "set1 = {10, 20, 30, 40, 50}\n",
    "\n",
    "# Remove items 10, 20, 30 at once\n",
    "set1.difference_update({10, 20, 30})\n",
    "\n",
    "# Print the updated set\n",
    "print(set1)\n"
   ]
  },
  {
   "cell_type": "code",
   "execution_count": 10,
   "metadata": {
    "id": "Gj535zgyRMF9"
   },
   "outputs": [],
   "source": []
  }
 ],
 "metadata": {
  "colab": {
   "provenance": []
  },
  "kernelspec": {
   "display_name": "Python [conda env:base] *",
   "language": "python",
   "name": "conda-base-py"
  },
  "language_info": {
   "codemirror_mode": {
    "name": "ipython",
    "version": 3
   },
   "file_extension": ".py",
   "mimetype": "text/x-python",
   "name": "python",
   "nbconvert_exporter": "python",
   "pygments_lexer": "ipython3",
   "version": "3.12.7"
  }
 },
 "nbformat": 4,
 "nbformat_minor": 4
}
