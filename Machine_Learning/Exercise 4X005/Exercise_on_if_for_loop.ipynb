{
 "cells": [
  {
   "cell_type": "markdown",
   "metadata": {
    "id": "nk4HskNQSz0B"
   },
   "source": [
    "# IF , ELSE.... FOR LOOP"
   ]
  },
  {
   "cell_type": "markdown",
   "metadata": {
    "id": "Z-1SRcj1Sz0T"
   },
   "source": [
    "## Question:\n",
    "\n",
    "Write a Python program that accepts a number between 1 and 7 as input and prints the corresponding day of the week. If the input is not between 1 and 7, print an error message like \"Invalid day\".\n",
    "\n",
    "### Day Mapping:\n",
    "- 1 = Sunday\n",
    "- 2 = Monday\n",
    "- 3 = Tuesday\n",
    "- 4 = Wednesday\n",
    "- 5 = Thursday\n",
    "- 6 = Friday\n",
    "- 7 = Saturday\n",
    "\n",
    "### Example:\n",
    "\n",
    "- **Input:**  \n",
    "  `3`\n",
    "  \n",
    "- **Output:**  \n",
    "  `Tuesday`\n",
    "\n",
    "- **Input:**  \n",
    "  `8`\n",
    "  \n",
    "- **Output:**  \n",
    "  `Invalid day`\n",
    "\n",
    "### Additional Notes:\n",
    "- Ensure that the program handles both valid and invalid inputs.\n",
    "- Use conditionals to check the input value and print the corresponding day or an error message.\n"
   ]
  },
  {
   "cell_type": "code",
   "execution_count": 3,
   "metadata": {
    "id": "cqnl9OhPSz0W"
   },
   "outputs": [
    {
     "name": "stdin",
     "output_type": "stream",
     "text": [
      "Enter a number between 1 and 7:  1\n"
     ]
    },
    {
     "name": "stdout",
     "output_type": "stream",
     "text": [
      "Sunday\n"
     ]
    }
   ],
   "source": [
    "# Accept input from the user\n",
    "day_number = input(\"Enter a number between 1 and 7: \")\n",
    "\n",
    "# Check if the input is a digit\n",
    "if day_number.isdigit():\n",
    "    day_number = int(day_number)\n",
    "\n",
    "    # Use conditionals to match the number to a day\n",
    "    if day_number == 1:\n",
    "        print(\"Sunday\")\n",
    "    elif day_number == 2:\n",
    "        print(\"Monday\")\n",
    "    elif day_number == 3:\n",
    "        print(\"Tuesday\")\n",
    "    elif day_number == 4:\n",
    "        print(\"Wednesday\")\n",
    "    elif day_number == 5:\n",
    "        print(\"Thursday\")\n",
    "    elif day_number == 6:\n",
    "        print(\"Friday\")\n",
    "    elif day_number == 7:\n",
    "        print(\"Saturday\")\n",
    "    else:\n",
    "        print(\"Invalid day\")\n",
    "else:\n",
    "    print(\"Invalid input. Please enter a number.\")\n"
   ]
  },
  {
   "cell_type": "markdown",
   "metadata": {
    "id": "7eeB8KVqZ36h"
   },
   "source": [
    "## Question:\n",
    "\n",
    "Write a Python program to check if a given number is positive, negative, or zero.\n",
    "\n",
    "- **Input:** `-5`\n",
    "- **Output:** `Negative`\n"
   ]
  },
  {
   "cell_type": "code",
   "execution_count": 17,
   "metadata": {
    "id": "-xm6TtIQZ7iM"
   },
   "outputs": [],
   "source": [
    "# CODE HERE\n",
    "# Input from the user\n",
    "num = int(input(\"Enter a number: \"))\n",
    "\n",
    "# Checking the condition\n",
    "if num > 0:\n",
    "    print(\"Positive\")\n",
    "elif num < 0:\n",
    "    print(\"Negative\")\n",
    "else:\n",
    "    print(\"Zero\")\n"
   ]
  },
  {
   "cell_type": "markdown",
   "metadata": {
    "id": "427bCrfgZ3yu"
   },
   "source": [
    "## Question:\n",
    "Write a Python program that checks if a given age qualifies for voting. The legal voting age is 18 years or older. If the person is 18 or older, the program should print `\"Eligible to vote\"`. Otherwise, it should print `\"Not eligible to vote\"`.\n",
    "\n",
    "- **Input:** `20`\n",
    "- **Output:** `Eligible to vote`\n",
    "\n",
    "### Additional Example:\n",
    "\n",
    "- **Input:** `15`\n",
    "- **Output:** `Not eligible to vote`\n"
   ]
  },
  {
   "cell_type": "code",
   "execution_count": 18,
   "metadata": {
    "id": "5Eqikc82aOPw"
   },
   "outputs": [],
   "source": [
    "# CODE HERE\n",
    "# Input from the user\n",
    "age = int(input(\"Enter your age: \"))\n",
    "\n",
    "# Checking voting eligibility\n",
    "if age >= 18:\n",
    "    print(\"Eligible to vote\")\n",
    "else:\n",
    "    print(\"Not eligible to vote\")\n"
   ]
  },
  {
   "cell_type": "markdown",
   "metadata": {
    "id": "xVryD6FBaOxn"
   },
   "source": [
    "## Question:\n",
    "\n",
    "Write a Python program to check if a given number is within a specified range. The number should be between 10 and 50, inclusive. If the number is within this range, the program should print `\"Within range\"`. Otherwise, it should print `\"Out of range\"`.\n",
    "\n",
    "- **Input:** `35`\n",
    "- **Output:** `Within range`\n",
    "\n",
    "### Additional Example:\n",
    "\n",
    "- **Input:** `5`\n",
    "- **Output:** `Out of range`\n",
    "\n",
    "- **Input:** `55`\n",
    "- **Output:** `Out of range`\n"
   ]
  },
  {
   "cell_type": "code",
   "execution_count": 19,
   "metadata": {
    "id": "sx47s1pGaNTO"
   },
   "outputs": [],
   "source": [
    "# CODE HERE\n",
    "# Input from the user\n",
    "num = int(input(\"Enter a number: \"))\n",
    "\n",
    "# Checking if the number is within the specified range\n",
    "if 10 <= num <= 50:\n",
    "    print(\"Within range\")\n",
    "else:\n",
    "    print(\"Out of range\")\n"
   ]
  },
  {
   "cell_type": "markdown",
   "metadata": {
    "id": "O9WcobPSaehi"
   },
   "source": [
    "## Question:\n",
    "\n",
    "Write a Python program that accepts a string and checks the first letter of the string. If the string starts with a vowel (A, E, I, O, U), the program should print `\"Vowel\"`. If the string starts with a consonant, the program should print `\"Consonant\"`.\n",
    "\n",
    "- **Input:** `apple`\n",
    "- **Output:** `Vowel`\n",
    "\n",
    "### Additional Example:\n",
    "\n",
    "- **Input:** `banana`\n",
    "- **Output:** `Consonant`\n",
    "\n",
    "- **Input:** `Orange`\n",
    "- **Output:** `Vowel`\n"
   ]
  },
  {
   "cell_type": "code",
   "execution_count": 20,
   "metadata": {
    "id": "uV95SYO1aeJc"
   },
   "outputs": [],
   "source": [
    "# CODE HERE\n",
    "# Input from the user\n",
    "text = input(\"Enter a string: \")\n",
    "\n",
    "# Check if the string is not empty and starts with an alphabet\n",
    "if text and text[0].isalpha():\n",
    "    first_char = text[0].lower()\n",
    "    if first_char in ['a', 'e', 'i', 'o', 'u']:\n",
    "        print(\"Vowel\")\n",
    "    else:\n",
    "        print(\"Consonant\")\n",
    "else:\n",
    "    print(\"Invalid input. Please enter a string that starts with an alphabet.\")\n"
   ]
  },
  {
   "cell_type": "markdown",
   "metadata": {
    "id": "YMNIDtVQSz0X"
   },
   "source": [
    "## Question:\n",
    "\n",
    "Write a Python program that finds all numbers between 2000 and 3200 (inclusive) that are divisible by 7 but not divisible by 5. The program should display the results in a single line, with each number separated by commas.\n",
    "\n",
    "### Example:\n",
    "\n",
    "- **Output:** `2002, 2014, 2028, 2036, 2048, 2056, 2072, 2084, 2092, ...`\n",
    "\n",
    "### Additional Notes:\n",
    "\n",
    "- The numbers should be displayed in one line.\n",
    "- Make sure the numbers are separated by commas, without any extra commas at the end.\n"
   ]
  },
  {
   "cell_type": "code",
   "execution_count": null,
   "metadata": {
    "id": "1yObEB3mSz0Y"
   },
   "outputs": [],
   "source": [
    "# CODE HERE\n",
    "# List to store the valid numbers\n",
    "result = []\n",
    "\n",
    "# Loop through the range\n",
    "for num in range(2000, 3201):  # 3201 because range upper bound is exclusive\n",
    "    if num % 7 == 0 and num % 5 != 0:\n",
    "        result.append(str(num))\n",
    "\n",
    "# Join and print the results as a comma-separated string\n",
    "print(\", \".join(result))\n"
   ]
  },
  {
   "cell_type": "markdown",
   "metadata": {
    "id": "7xuI-2Q5Sz0a"
   },
   "source": [
    "## Question:\n",
    "\n",
    "Write a Python program that calculates the factorial of a given number. The program should compute the factorial and display the result in a single line.\n",
    "\n",
    "### Example:\n",
    "\n",
    "- **Input:** `8`\n",
    "- **Output:** `40320`\n",
    "\n",
    "### Additional Notes:\n",
    "- The factorial of a number `n` is the product of all positive integers less than or equal to `n` (i.e., `n! = n × (n-1) × (n-2) × ... × 1`).\n",
    "- Ensure that the program handles any valid non-negative integer input.\n"
   ]
  },
  {
   "cell_type": "code",
   "execution_count": null,
   "metadata": {
    "id": "dSmB7l-ASz0b"
   },
   "outputs": [],
   "source": [
    "#CODE HERE\n",
    "# Input from the user\n",
    "num = int(input(\"Enter a non-negative integer: \"))\n",
    "\n",
    "# Check for valid input\n",
    "if num < 0:\n",
    "    print(\"Factorial is not defined for negative numbers.\")\n",
    "else:\n",
    "    factorial = 1\n",
    "    for i in range(1, num + 1):\n",
    "        factorial *= i\n",
    "    print(factorial)\n"
   ]
  },
  {
   "cell_type": "markdown",
   "metadata": {
    "id": "fNk0mFz_Sz0d"
   },
   "source": [
    "## Question:\n",
    "\n",
    "Given an integer `n`, write a Python program that generates a dictionary where the keys are integers from 1 to `n` (inclusive) and the values are the square of those integers. The program should then print the dictionary.\n",
    "\n",
    "### Example:\n",
    "\n",
    "- **Input:** `8`\n",
    "- **Output:** `{1: 1, 2: 4, 3: 9, 4: 16, 5: 25, 6: 36, 7: 49, 8: 64}`\n",
    "\n",
    "### Additional Notes:\n",
    "- Use the `dict()` function to create the dictionary.\n",
    "- The keys should be integers from 1 to `n`, and the values should be the squares of those integers.\n",
    "- Ensure that the program can handle any positive integer input.\n"
   ]
  },
  {
   "cell_type": "code",
   "execution_count": 23,
   "metadata": {
    "id": "ms3aPJBqSz0f"
   },
   "outputs": [],
   "source": [
    "#CODE HERE\n",
    "# Input from the user\n",
    "n = int(input(\"Enter a positive integer: \"))\n",
    "\n",
    "# Validate input\n",
    "if n <= 0:\n",
    "    print(\"Please enter a positive integer.\")\n",
    "else:\n",
    "    # Create the dictionary using dict() and comprehension\n",
    "    square_dict = dict((i, i**2) for i in range(1, n + 1))\n",
    "    \n",
    "    # Print the resulting dictionary\n",
    "    print(square_dict)\n"
   ]
  },
  {
   "cell_type": "markdown",
   "metadata": {
    "id": "TYBTx6C7Sz0k"
   },
   "source": [
    "## Question: \n",
    "\n",
    "Write a Python program that defines a user-defined function for the following mathematical operations:\n",
    "\n",
    "- **Addition**: Function name: `add`\n",
    "- **Subtraction**: Function name: `sub`\n",
    "- **Multiplication**: Function name: `mul`\n",
    "- **Division**: Function name: `div`\n",
    "- **Power**: Function name: `pow`\n",
    "\n",
    "Each function should take two input parameters (numbers) and return the result of the respective operation.\n",
    "\n",
    "### Example:\n",
    "\n",
    "- For addition: `add(2, 3)` should return `5`\n",
    "- For subtraction: `sub(5, 2)` should return `3`\n",
    "- For multiplication: `mul(3, 4)` should return `12`\n",
    "- For division: `div(10, 2)` should return `5.0`\n",
    "- For power: `pow(2, 3)` should return `8`\n",
    "\n",
    "### Additional Notes:\n",
    "- You can create individual functions for each operation and call them as needed.\n",
    "- Ensure that the division handles division by zero appropriately (you may raise an exception or return a specific message).\n"
   ]
  },
  {
   "cell_type": "code",
   "execution_count": 25,
   "metadata": {
    "id": "EIIeQT0wSz0l"
   },
   "outputs": [],
   "source": [
    "#CODE HERE\n",
    "# Addition\n",
    "def add(a, b):\n",
    "    return a + b\n",
    "\n",
    "# Subtraction\n",
    "def sub(a, b):\n",
    "    return a - b\n",
    "\n",
    "# Multiplication\n",
    "def mul(a, b):\n",
    "    return a * b\n",
    "\n",
    "# Division\n",
    "def div(a, b):\n",
    "    if b == 0:\n",
    "        return \"Division by zero is not allowed.\"\n",
    "    return a / b\n",
    "\n",
    "# Power\n",
    "def pow(a, b):\n",
    "    return a ** b\n",
    "\n",
    "# Example usage\n",
    "print(\"add(2, 3) =\", add(2, 3))        # 5\n",
    "print(\"sub(5, 2) =\", sub(5, 2))        # 3\n",
    "print(\"mul(3, 4) =\", mul(3\n",
    "\n"
   ]
  },
  {
   "cell_type": "markdown",
   "metadata": {
    "id": "XPkq1BeXSz0m"
   },
   "source": [
    "## Question:\n",
    "\n",
    "Write a Python program that takes a string as input and calculates the number of digits and letters in it.\n",
    "\n",
    "The program should count:\n",
    "- The number of **letters** (alphabetic characters).\n",
    "- The number of **digits** (numerical characters).\n",
    "\n",
    "### Example:\n",
    "\n",
    "- **Input:**  \n",
    "  `Hello321Bye360`\n",
    "\n",
    "- **Output:**  \n",
    "Digits: 6 Letters: 8\n",
    "\n",
    "\n",
    "### Additional Notes:\n",
    "- The program should handle any string containing letters and digits.\n",
    "- Make sure to count only alphabetic characters as letters and only numeric characters as digits.\n"
   ]
  },
  {
   "cell_type": "code",
   "execution_count": null,
   "metadata": {
    "id": "nQYVtVN0Sz0o"
   },
   "outputs": [],
   "source": [
    "# CODE HERE\n",
    "# Input from the user\n",
    "s = input(\"Enter a string: \")\n",
    "\n",
    "# Initialize counters\n",
    "letters = 0\n",
    "digits = 0\n",
    "\n",
    "# Loop through each character\n",
    "for char in s:\n",
    "    if char.isalpha():\n",
    "        letters += 1\n",
    "    elif char.isdigit():\n",
    "        digits += 1\n",
    "\n",
    "# Print the results\n",
    "print(f\"Digits: {digits} Letters: {letters}\")\n"
   ]
  },
  {
   "cell_type": "markdown",
   "metadata": {
    "id": "eYvYelSPSz0q"
   },
   "source": [
    "## Question:\n",
    "\n",
    "Given the tuple:\n",
    "\n",
    "\n",
    "`numbers = (1, 2, 3, 4, 5, 6, 7, 8, 9, 10)`\n",
    "Write a Python program to print the first half of the values on one line and the second half on another line.\n",
    "\n",
    "Example:\n",
    "`Input: (1, 2, 3, 4, 5, 6, 7, 8, 9, 10)`\n",
    "\n",
    "Output:\n",
    "\n",
    "`1 2 3 4 5`\n",
    "\n",
    "`6 7 8 9 10`\n",
    "\n",
    "Additional Notes:\n",
    "The tuple contains 10 elements in this case. If the length of the tuple is even, split it evenly into two halves.\n",
    "You can use slicing to split the tuple into two parts.\n",
    "Ensure that the program works for any tuple with an even number of elements."
   ]
  },
  {
   "cell_type": "code",
   "execution_count": null,
   "metadata": {
    "id": "qZhYemL4Sz0q"
   },
   "outputs": [],
   "source": [
    "# CODE HERE\n",
    "# Given tuple\n",
    "numbers = (1, 2, 3, 4, 5, 6, 7, 8, 9, 10)\n",
    "\n",
    "# Check if the number of elements is even\n",
    "if len(numbers) % 2 == 0:\n",
    "    mid = len(numbers) // 2\n",
    "    first_half = numbers[:mid]\n",
    "    second_half = numbers[mid:]\n",
    "    \n",
    "    # Print each half on a separate line\n",
    "    print(*first_half)\n",
    "    print(*second_half)\n",
    "else:\n",
    "    print(\"The tuple does not contain an even number of elements\n"
   ]
  },
  {
   "cell_type": "markdown",
   "metadata": {
    "id": "VsGvzi0lSz0w"
   },
   "source": [
    "## Question:\n",
    "\n",
    "Given the tuple:\n",
    "\n",
    "\n",
    "`numbers = (1, 2, 3, 4, 5, 6, 7, 8, 9, 10)`\n",
    "\n",
    "\n",
    "Write a Python program to generate and print another tuple that contains only the even numbers from the given tuple.\n",
    "\n",
    "### Example:\n",
    "\n",
    "- **Input:**  \n",
    "  `(1, 2, 3, 4, 5, 6, 7, 8, 9, 10)`\n",
    "  \n",
    "- **Output:**  \n",
    "  ```\n",
    "  (2, 4, 6, 8, 10)\n",
    "  ```\n",
    "\n",
    "### Additional Notes:\n",
    "- The program should:\n",
    "  - **Return a new tuple containing only even numbers.**\n",
    "  - **Ensure that the program works for any tuple of integers.**\n",
    "- The program should be able to handle tuples with any number of integers, not just the given example.\n",
    "```\n"
   ]
  },
  {
   "cell_type": "code",
   "execution_count": 28,
   "metadata": {
    "id": "o2zUBK3lSz0x"
   },
   "outputs": [],
   "source": [
    "# CODE HERE\n",
    "# Given tuple\n",
    "numbers = (1, 2, 3, 4, 5, 6, 7, 8, 9, 10)\n",
    "\n",
    "# Use tuple comprehension (via generator expression in tuple())\n",
    "even_numbers = tuple(num for num in numbers if num % 2 == 0)\n",
    "\n",
    "# Output the result\n",
    "print(even_numbers)\n"
   ]
  },
  {
   "cell_type": "markdown",
   "metadata": {
    "id": "zIdOAXatSz0z"
   },
   "source": [
    "## Question:\n",
    "\n",
    "Write a Python program that accepts a string as input and checks whether it matches one of the following variations: `\"yes\"`, `\"YES\"`, or `\"Yes\"`. If the string matches any of these values, print `\"Yes\"`. Otherwise, print `\"No\"`.\n",
    "\n",
    "### Example:\n",
    "\n",
    "- **Input:**  \n",
    "  `\"Yes\"`\n",
    "  \n",
    "- **Output:**  \n",
    "  `\"Yes\"`\n",
    "\n",
    "- **Input:**  \n",
    "  `\"no\"`\n",
    "  \n",
    "- **Output:**  \n",
    "  `\"No\"`\n",
    "\n",
    "### Additional Notes:\n",
    "- The program should be case-sensitive for the variations of the word `\"yes\"`.\n",
    "- Ensure the program prints `\"Yes\"` only for the exact matches of `\"yes\"`, `\"YES\"`, or `\"Yes\"`.\n"
   ]
  },
  {
   "cell_type": "code",
   "execution_count": 5,
   "metadata": {
    "id": "2jUfxoXjSz0z"
   },
   "outputs": [
    {
     "name": "stdin",
     "output_type": "stream",
     "text": [
      "Enter a string:  sayan\n"
     ]
    },
    {
     "name": "stdout",
     "output_type": "stream",
     "text": [
      "No\n"
     ]
    }
   ],
   "source": [
    "# CODE HERE\n",
    "# Accept input from the user\n",
    "input_string = input(\"Enter a string: \")\n",
    "\n",
    "# Check if the input matches any of the specified variations\n",
    "if input_string in [\"yes\", \"YES\", \"Yes\"]:\n",
    "    print(\"Yes\")\n",
    "else:\n",
    "    print(\"No\")\n"
   ]
  },
  {
   "cell_type": "code",
   "execution_count": null,
   "metadata": {},
   "outputs": [],
   "source": []
  }
 ],
 "metadata": {
  "colab": {
   "provenance": []
  },
  "kernelspec": {
   "display_name": "Python [conda env:base] *",
   "language": "python",
   "name": "conda-base-py"
  },
  "language_info": {
   "codemirror_mode": {
    "name": "ipython",
    "version": 3
   },
   "file_extension": ".py",
   "mimetype": "text/x-python",
   "name": "python",
   "nbconvert_exporter": "python",
   "pygments_lexer": "ipython3",
   "version": "3.12.7"
  }
 },
 "nbformat": 4,
 "nbformat_minor": 4
}
