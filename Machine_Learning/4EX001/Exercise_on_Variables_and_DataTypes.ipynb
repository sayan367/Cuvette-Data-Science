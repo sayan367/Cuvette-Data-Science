{
 "cells": [
  {
   "cell_type": "markdown",
   "metadata": {
    "id": "PlwAT_vD7HcW"
   },
   "source": [
    "# Assignment on Variables and DataTypes"
   ]
  },
  {
   "cell_type": "markdown",
   "metadata": {
    "id": "Jv_SuJim7Hcd"
   },
   "source": [
    "## Basics of Python"
   ]
  },
  {
   "cell_type": "markdown",
   "metadata": {
    "id": "yV1WWoRb7Hce"
   },
   "source": [
    "## Question:\n",
    "\n",
    "Print your name using the `print()` function.\n"
   ]
  },
  {
   "cell_type": "code",
   "execution_count": 1,
   "metadata": {
    "id": "YX9sSIk27Hcf"
   },
   "outputs": [
    {
     "name": "stdout",
     "output_type": "stream",
     "text": [
      "Sayan Sarkar\n"
     ]
    }
   ],
   "source": [
    "print(\"Sayan Sarkar\")"
   ]
  },
  {
   "cell_type": "markdown",
   "metadata": {
    "id": "q5Vw_QHy7Hci"
   },
   "source": [
    "### What is a Variable? \n",
    "\n",
    "Write a few words about variables and provide an example by creating a variable.\n"
   ]
  },
  {
   "cell_type": "markdown",
   "metadata": {},
   "source": [
    "Double click this cell and write down the answer"
   ]
  },
  {
   "cell_type": "code",
   "execution_count": 5,
   "metadata": {},
   "outputs": [
    {
     "name": "stdout",
     "output_type": "stream",
     "text": [
      "25\n",
      "<class 'int'>\n"
     ]
    }
   ],
   "source": [
    "# varibales are containers that is used to store data types.\n",
    "x=25 # here x is an integer type varibale as it store the data type intger which is 25.\n",
    "\n",
    "print(x)\n",
    "print(type(x))"
   ]
  },
  {
   "cell_type": "markdown",
   "metadata": {
    "id": "M_56LBqz8Mja"
   },
   "source": [
    "## Question\n",
    "\n",
    "Given the following variable assignments:\n",
    "\n",
    "```python\n",
    "length = 17\n",
    "breadth = 12.0\n",
    "symbol = '*'\n",
    "```\n",
    "\n",
    "\n",
    "Evaluate the result and the data type for each of the expressions below:\n",
    "\n",
    "    1. length // 2\n",
    "    2. length / 2.0\n",
    "    3. breadth / 4\n",
    "    4. 2 + 3 * 4\n",
    "    5. symbol * 3"
   ]
  },
  {
   "cell_type": "code",
   "execution_count": 15,
   "metadata": {
    "id": "4g9DBj6A7Hcl"
   },
   "outputs": [
    {
     "name": "stdout",
     "output_type": "stream",
     "text": [
      "<class 'int'>\n",
      "<class 'int'>\n",
      "<class 'float'>\n",
      "<class 'float'>\n",
      "<class 'float'>\n",
      "<class 'str'>\n",
      "14\n",
      "<class 'int'>\n",
      "***\n",
      "<class 'str'>\n"
     ]
    }
   ],
   "source": [
    "length=17\n",
    "print(type(length))\n",
    "k=length//2\n",
    "p=length/2.0\n",
    "print(type(k))\n",
    "print(type(p))\n",
    "breadth=12.0\n",
    "print(type(breadth))\n",
    "l=breadth/4\n",
    "print(type(l))\n",
    "symbol='*'\n",
    "print(type(symbol))\n",
    "z=2+3*4\n",
    "print(z)\n",
    "print (type(z))\n",
    "print(symbol*3)\n",
    "print(type(symbol*3))\n"
   ]
  },
  {
   "cell_type": "markdown",
   "metadata": {
    "id": "txDLiNdL7Hcq"
   },
   "source": [
    "### Question:\n",
    "\n",
    "Write a program to add two numbers. Use the variable names `first` and `second` for the numbers.\n"
   ]
  },
  {
   "cell_type": "code",
   "execution_count": 17,
   "metadata": {
    "id": "GzB9epzh9p9m"
   },
   "outputs": [
    {
     "name": "stdout",
     "output_type": "stream",
     "text": [
      "110\n"
     ]
    }
   ],
   "source": [
    "first=55\n",
    "second=55\n",
    "add=first+second\n",
    "print(add)"
   ]
  },
  {
   "cell_type": "markdown",
   "metadata": {
    "id": "Jp-dzURp7Hct"
   },
   "source": [
    "### Question:\n",
    "\n",
    "Write a program to concatenate your first name and second name. \n",
    "\n",
    "- You should use two separate variables: one for your first name and one for your second name.\n",
    "- Concatenate these two names into a full name and display the result.\n",
    "\n",
    "Use appropriate variable names for the first name and second name (e.g., `first_name` and `second_name`).\n"
   ]
  },
  {
   "cell_type": "code",
   "execution_count": 21,
   "metadata": {
    "id": "oOanQTsU9s1b"
   },
   "outputs": [
    {
     "name": "stdout",
     "output_type": "stream",
     "text": [
      "RajGupta\n"
     ]
    }
   ],
   "source": [
    "first_name='Raj'\n",
    "second_name='Gupta'\n",
    "concatenate=first_name+second_name\n",
    "print(concatenate)"
   ]
  },
  {
   "cell_type": "markdown",
   "metadata": {
    "id": "UehJFzOF7Hcu"
   },
   "source": [
    "### Question:\n",
    "\n",
    "Print the data types of the following values:\n",
    "\n",
    "- `20`\n",
    "- `'30'`\n",
    "- `True`\n",
    "- `50.5`\n",
    "\n",
    "Your task is to print the data type of each value using the `type()` function in Python.\n"
   ]
  },
  {
   "cell_type": "code",
   "execution_count": 23,
   "metadata": {
    "id": "7z6vUnHz7Hcu"
   },
   "outputs": [
    {
     "name": "stdout",
     "output_type": "stream",
     "text": [
      "<class 'int'>\n",
      "<class 'str'>\n",
      "<class 'bool'>\n",
      "<class 'float'>\n"
     ]
    }
   ],
   "source": [
    "print(type(20))    # Output: <class 'int'>\n",
    "print(type('30'))  # Output: <class 'str'>\n",
    "print(type(True))  # Output: <class 'bool'>\n",
    "print(type(50.5))  # Output: <class 'float'>"
   ]
  },
  {
   "cell_type": "markdown",
   "metadata": {
    "id": "0tdftRfq7Hcv"
   },
   "source": [
    "### Question:\n",
    "\n",
    "Given the following variables:\n",
    "\n",
    "```python\n",
    "num_int = 123\n",
    "num_str = \"456\"\n",
    "\n",
    "Your task is to add num_int and num_str.\n",
    "\n",
    "Hint: You need to first convert num_str into an integer before performing the addition.\n"
   ]
  },
  {
   "cell_type": "code",
   "execution_count": 25,
   "metadata": {
    "id": "6vsxVsJv7Hcw"
   },
   "outputs": [
    {
     "name": "stdout",
     "output_type": "stream",
     "text": [
      "579\n"
     ]
    }
   ],
   "source": [
    "num_int = 123\n",
    "num_str = \"456\"\n",
    "\n",
    "# Convert num_str to an integer\n",
    "num_str_int = int(num_str)\n",
    "\n",
    "# Perform the addition\n",
    "result = num_int + num_str_int\n",
    "\n",
    "print(result)"
   ]
  },
  {
   "cell_type": "code",
   "execution_count": null,
   "metadata": {},
   "outputs": [],
   "source": []
  }
 ],
 "metadata": {
  "colab": {
   "provenance": []
  },
  "kernelspec": {
   "display_name": "Python [conda env:base] *",
   "language": "python",
   "name": "conda-base-py"
  },
  "language_info": {
   "codemirror_mode": {
    "name": "ipython",
    "version": 3
   },
   "file_extension": ".py",
   "mimetype": "text/x-python",
   "name": "python",
   "nbconvert_exporter": "python",
   "pygments_lexer": "ipython3",
   "version": "3.12.7"
  }
 },
 "nbformat": 4,
 "nbformat_minor": 4
}
