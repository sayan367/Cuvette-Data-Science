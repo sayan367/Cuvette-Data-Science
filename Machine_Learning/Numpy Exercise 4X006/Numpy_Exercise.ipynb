{
 "cells": [
  {
   "cell_type": "markdown",
   "metadata": {},
   "source": [
    "## Question 1: Creating a NumPy Array  \n",
    "Write a Python code snippet to create a NumPy array of 10 zeros.\n",
    "\n",
    "### Example:\n",
    "- **Output:**  \n",
    "  `array([0., 0., 0., 0., 0., 0., 0., 0., 0., 0.])`\n"
   ]
  },
  {
   "cell_type": "code",
   "execution_count": 5,
   "metadata": {},
   "outputs": [
    {
     "name": "stdout",
     "output_type": "stream",
     "text": [
      "[0. 0. 0. 0. 0. 0. 0. 0. 0. 0.]\n"
     ]
    }
   ],
   "source": [
    "import numpy as np\n",
    "\n",
    "# Create a NumPy array of 10 zeros\n",
    "array_of_zeros = np.zeros(10)\n",
    "\n",
    "# Print the array\n",
    "print(array_of_zeros)\n"
   ]
  },
  {
   "cell_type": "markdown",
   "metadata": {},
   "source": [
    "\n",
    "\n",
    "## Question 2: Creating a Range of Numbers  \n",
    "Write a Python code snippet to create a NumPy array with numbers from 10 to 20 (inclusive) with a step of 2.\n",
    "\n",
    "### Example:\n",
    "- **Output:**  \n",
    "  `array([10, 12, 14, 16, 18, 20])`"
   ]
  },
  {
   "cell_type": "code",
   "execution_count": 7,
   "metadata": {},
   "outputs": [
    {
     "name": "stdout",
     "output_type": "stream",
     "text": [
      "[10 12 14 16 18 20]\n"
     ]
    }
   ],
   "source": [
    "# Write your code here\n",
    "import numpy as np\n",
    "\n",
    "# Create a NumPy array with numbers from 10 to 20 (inclusive) with a step of 2\n",
    "array = np.arange(10, 21, 2)\n",
    "\n",
    "# Print the array\n",
    "print(array)\n"
   ]
  },
  {
   "cell_type": "markdown",
   "metadata": {},
   "source": [
    "## Question 3: Reshaping an Array  \n",
    "Write a Python code snippet to reshape a NumPy array with 12 elements into a 3x4 matrix.\n",
    "\n",
    "### Example:\n",
    "- **Input:**  \n",
    "  `array([1, 2, 3, 4, 5, 6, 7, 8, 9, 10, 11, 12])`\n",
    "  \n",
    "- **Output:**  \n",
    "  `array([[ 1,  2,  3,  4],  \n",
    "         [ 5,  6,  7,  8],  \n",
    "         [ 9, 10, 11, 12]])`"
   ]
  },
  {
   "cell_type": "code",
   "execution_count": 9,
   "metadata": {},
   "outputs": [
    {
     "name": "stdout",
     "output_type": "stream",
     "text": [
      "[[ 1  2  3  4]\n",
      " [ 5  6  7  8]\n",
      " [ 9 10 11 12]]\n"
     ]
    }
   ],
   "source": [
    "# Write your code here\n",
    "import numpy as np\n",
    "\n",
    "# Create a NumPy array with 12 elements\n",
    "array = np.array([1, 2, 3, 4, 5, 6, 7, 8, 9, 10, 11, 12])\n",
    "\n",
    "# Reshape the array into a 3x4 matrix\n",
    "reshaped_array = array.reshape(3, 4)\n",
    "\n",
    "# Print the reshaped array\n",
    "print(reshaped_array)\n"
   ]
  },
  {
   "cell_type": "markdown",
   "metadata": {},
   "source": [
    "## Question 4: Array Indexing  \n",
    "Write a Python code snippet to retrieve the element at the 2nd row and 3rd column from a 3x4 matrix.\n",
    "\n",
    "### Example:\n",
    "- **Input:**  \n",
    "  `array([[1, 2, 3, 4],  \n",
    "         [5, 6, 7, 8],  \n",
    "         [9, 10, 11, 12]])`\n",
    "  \n",
    "- **Output:**  \n",
    "  `11`"
   ]
  },
  {
   "cell_type": "code",
   "execution_count": 11,
   "metadata": {},
   "outputs": [
    {
     "name": "stdout",
     "output_type": "stream",
     "text": [
      "7\n"
     ]
    }
   ],
   "source": [
    "# Write your code here\n",
    "import numpy as np\n",
    "\n",
    "# Create a NumPy 3x4 matrix\n",
    "array = np.array([[1, 2, 3, 4],\n",
    "                  [5, 6, 7, 8],\n",
    "                  [9, 10, 11, 12]])\n",
    "\n",
    "# Retrieve the element at the 2nd row and 3rd column (index 1, 2)\n",
    "element = array[1, 2]\n",
    "\n",
    "# Print the element\n",
    "print(element)\n"
   ]
  },
  {
   "cell_type": "markdown",
   "metadata": {},
   "source": [
    "\n",
    "## Question 5: Array Operations  \n",
    "Write a Python code snippet to add 5 to every element of the following NumPy array.\n",
    "\n",
    "### Example:\n",
    "- **Input:**  \n",
    "  `array([1, 2, 3, 4, 5])`\n",
    "  \n",
    "- **Output:**  \n",
    "  `array([6, 7, 8, 9, 10])`"
   ]
  },
  {
   "cell_type": "code",
   "execution_count": 13,
   "metadata": {},
   "outputs": [
    {
     "name": "stdout",
     "output_type": "stream",
     "text": [
      "[ 6  7  8  9 10]\n"
     ]
    }
   ],
   "source": [
    "# Write your code here\n",
    "import numpy as np\n",
    "\n",
    "# Create a NumPy array\n",
    "array = np.array([1, 2, 3, 4, 5])\n",
    "\n",
    "# Add 5 to every element of the array\n",
    "result = array + 5\n",
    "\n",
    "# Print the result\n",
    "print(result)\n"
   ]
  },
  {
   "cell_type": "markdown",
   "metadata": {},
   "source": [
    "## Question 6: Array Transposition  \n",
    "Write a Python code snippet to transpose a 2x3 NumPy array.\n",
    "\n",
    "### Example:\n",
    "- **Input:**  \n",
    "  `array([[1, 2, 3],  \n",
    "         [4, 5, 6]])`\n",
    "  \n",
    "- **Output:**  \n",
    "  `array([[1, 4],  \n",
    "         [2, 5],  \n",
    "         [3, 6]])`"
   ]
  },
  {
   "cell_type": "code",
   "execution_count": 15,
   "metadata": {},
   "outputs": [
    {
     "name": "stdout",
     "output_type": "stream",
     "text": [
      "[[1 4]\n",
      " [2 5]\n",
      " [3 6]]\n"
     ]
    }
   ],
   "source": [
    "# Write your code here\n",
    "import numpy as np\n",
    "\n",
    "# Create a 2x3 NumPy array\n",
    "array = np.array([[1, 2, 3],\n",
    "                  [4, 5, 6]])\n",
    "\n",
    "# Transpose the array\n",
    "transposed_array = array.T\n",
    "\n",
    "# Print the transposed array\n",
    "print(transposed_array)\n",
    "\n"
   ]
  },
  {
   "cell_type": "markdown",
   "metadata": {},
   "source": [
    "\n",
    "## Question 7: Array Arithmetic  \n",
    "Write a Python code snippet to multiply two NumPy arrays element-wise.\n",
    "\n",
    "### Example:\n",
    "- **Input:**  \n",
    "  `array([1, 2, 3])`,  \n",
    "  `array([4, 5, 6])`\n",
    "  \n",
    "- **Output:**  \n",
    "  `array([4, 10, 18])`"
   ]
  },
  {
   "cell_type": "code",
   "execution_count": 17,
   "metadata": {},
   "outputs": [
    {
     "name": "stdout",
     "output_type": "stream",
     "text": [
      "[ 4 10 18]\n"
     ]
    }
   ],
   "source": [
    "# Write your code here\n",
    "import numpy as np\n",
    "\n",
    "# Create two NumPy arrays\n",
    "array1 = np.array([1, 2, 3])\n",
    "array2 = np.array([4, 5, 6])\n",
    "\n",
    "# Multiply the arrays element-wise\n",
    "result = array1 * array2\n",
    "\n",
    "# Print the result\n",
    "print(result)\n",
    "\n"
   ]
  },
  {
   "cell_type": "markdown",
   "metadata": {},
   "source": [
    "\n",
    "## Question 9: Statistical Functions  \n",
    "Write a Python code snippet to compute the mean of a NumPy array.\n",
    "\n",
    "### Example:\n",
    "- **Input:**  \n",
    "  `array([10, 20, 30, 40, 50])`\n",
    "  \n",
    "- **Output:**  \n",
    "  `30.0`"
   ]
  },
  {
   "cell_type": "code",
   "execution_count": 1,
   "metadata": {},
   "outputs": [
    {
     "name": "stdout",
     "output_type": "stream",
     "text": [
      "30.0\n"
     ]
    }
   ],
   "source": [
    "# Write your code here\n",
    "import numpy as np\n",
    "array=[10,20,30,40,50]\n",
    "mean=np.mean(array)\n",
    "print(mean)"
   ]
  },
  {
   "cell_type": "markdown",
   "metadata": {},
   "source": [
    "## Question 8: Boolean Indexing  \n",
    "Write a Python code snippet to create a new NumPy array by selecting elements greater than 5 from the following array.\n",
    "\n",
    "### Example:\n",
    "- **Input:**  \n",
    "  `array([1, 2, 3, 6, 7, 8])`\n",
    "  \n",
    "- **Output:**  \n",
    "  `array([6, 7, 8])`"
   ]
  },
  {
   "cell_type": "code",
   "execution_count": 19,
   "metadata": {},
   "outputs": [
    {
     "name": "stdout",
     "output_type": "stream",
     "text": [
      "[6 7 8]\n"
     ]
    }
   ],
   "source": [
    "# Write your code here\n",
    "import numpy as np\n",
    "\n",
    "# Create a NumPy array\n",
    "array = np.array([1, 2, 3, 6, 7, 8])\n",
    "\n",
    "# Select elements greater than 5\n",
    "result = array[array > 5]\n",
    "\n",
    "# Print the result\n",
    "print(result)\n"
   ]
  },
  {
   "cell_type": "markdown",
   "metadata": {},
   "source": [
    "## Question 10: Stacking Arrays  \n",
    "Write a Python code snippet to stack two NumPy arrays vertically.\n",
    "\n",
    "### Example:\n",
    "- **Input:**  \n",
    "  `array([1, 2, 3])`,  \n",
    "  `array([4, 5, 6])`\n",
    "  \n",
    "- **Output:**  \n",
    "  `array([[1, 2, 3],  \n",
    "         [4, 5, 6]])`\n"
   ]
  },
  {
   "cell_type": "code",
   "execution_count": 21,
   "metadata": {},
   "outputs": [
    {
     "name": "stdout",
     "output_type": "stream",
     "text": [
      "[[1 2 3]\n",
      " [4 5 6]]\n"
     ]
    }
   ],
   "source": [
    "# Write your code here\n",
    "import numpy as np\n",
    "\n",
    "# Create two NumPy arrays\n",
    "array1 = np.array([1, 2, 3])\n",
    "array2 = np.array([4, 5, 6])\n",
    "\n",
    "# Stack the arrays vertically\n",
    "stacked_array = np.vstack((array1, array2))\n",
    "\n",
    "# Print the stacked array\n",
    "print(stacked_array)\n",
    "\n"
   ]
  },
  {
   "cell_type": "markdown",
   "metadata": {},
   "source": [
    "## Question 11: Creating an Identity Matrix  \n",
    "Write a Python code snippet to create a 3x3 identity matrix using NumPy.\n",
    "\n",
    "### Example:\n",
    "- **Output:**  \n",
    "  `array([[1., 0., 0.],  \n",
    "         [0., 1., 0.],  \n",
    "         [0., 0., 1.]])`\n"
   ]
  },
  {
   "cell_type": "code",
   "execution_count": 23,
   "metadata": {},
   "outputs": [
    {
     "name": "stdout",
     "output_type": "stream",
     "text": [
      "[[1. 0. 0.]\n",
      " [0. 1. 0.]\n",
      " [0. 0. 1.]]\n"
     ]
    }
   ],
   "source": [
    "# Write your code here\n",
    "import numpy as np\n",
    "\n",
    "# Create a 3x3 identity matrix\n",
    "identity_matrix = np.eye(3)\n",
    "\n",
    "# Print the identity matrix\n",
    "print(identity_matrix)\n",
    "\n"
   ]
  },
  {
   "cell_type": "markdown",
   "metadata": {},
   "source": [
    "## Question 12: Array Dot Product  \n",
    "Write a Python code snippet to compute the dot product of two NumPy arrays.\n",
    "\n",
    "### Example:\n",
    "- **Input:**  \n",
    "  `array([1, 2])`,  \n",
    "  `array([3, 4])`\n",
    "  \n",
    "- **Output:**  \n",
    "  `11`"
   ]
  },
  {
   "cell_type": "code",
   "execution_count": 25,
   "metadata": {},
   "outputs": [
    {
     "name": "stdout",
     "output_type": "stream",
     "text": [
      "11\n"
     ]
    }
   ],
   "source": [
    "# Write your code here\n",
    "import numpy as np\n",
    "\n",
    "# Create two NumPy arrays\n",
    "array1 = np.array([1, 2])\n",
    "array2 = np.array([3, 4])\n",
    "\n",
    "# Compute the dot product\n",
    "dot_product = np.dot(array1, array2)\n",
    "\n",
    "# Print the result\n",
    "print(dot_product)\n"
   ]
  },
  {
   "cell_type": "markdown",
   "metadata": {},
   "source": [
    "## Question 13: Creating a Random Array  \n",
    "Write a Python code snippet to create a NumPy array of 5 random numbers between 0 and 1.\n",
    "\n"
   ]
  },
  {
   "cell_type": "code",
   "execution_count": 27,
   "metadata": {},
   "outputs": [
    {
     "name": "stdout",
     "output_type": "stream",
     "text": [
      "[0.24808229 0.32415611 0.11221036 0.08409719 0.30896647]\n"
     ]
    }
   ],
   "source": [
    "# Write your code here\n",
    "import numpy as np\n",
    "\n",
    "# Create an array of 5 random numbers between 0 and 1\n",
    "random_array = np.random.rand(5)\n",
    "\n",
    "# Print the array\n",
    "print(random_array)\n",
    "\n"
   ]
  },
  {
   "cell_type": "markdown",
   "metadata": {},
   "source": [
    "## Question 14: Array Sorting  \n",
    "Write a Python code snippet to sort a NumPy array in ascending order.\n",
    "\n",
    "### Example:\n",
    "- **Input:**  \n",
    "  `array([3, 1, 4, 1, 5, 9, 2])`\n",
    "  \n",
    "- **Output:**  \n",
    "  `array([1, 1, 2, 3, 4, 5, 9])`"
   ]
  },
  {
   "cell_type": "code",
   "execution_count": 29,
   "metadata": {},
   "outputs": [
    {
     "name": "stdout",
     "output_type": "stream",
     "text": [
      "[1 1 2 3 4 5 9]\n"
     ]
    }
   ],
   "source": [
    "# Write your code here\n",
    "import numpy as np\n",
    "\n",
    "# Create a NumPy array\n",
    "array = np.array([3, 1, 4, 1, 5, 9, 2])\n",
    "\n",
    "# Sort the array in ascending order\n",
    "sorted_array = np.sort(array)\n",
    "\n",
    "# Print the sorted array\n",
    "print(sorted_array)\n",
    "\n"
   ]
  },
  {
   "cell_type": "markdown",
   "metadata": {},
   "source": [
    "## Question 15: Array Broadcasting  \n",
    "Write a Python code snippet to add a 1D array to a 2D array using broadcasting.\n",
    "\n",
    "### Example:\n",
    "- **Input:**  \n",
    "  `array([[1, 2],  \n",
    "         [3, 4]])`,  \n",
    "  `array([10, 20])`\n",
    "  \n",
    "- **Output:**  \n",
    "  `array([[11, 22],  \n",
    "         [13, 24]])`\n"
   ]
  },
  {
   "cell_type": "code",
   "execution_count": 31,
   "metadata": {},
   "outputs": [
    {
     "name": "stdout",
     "output_type": "stream",
     "text": [
      "[[11 22]\n",
      " [13 24]]\n"
     ]
    }
   ],
   "source": [
    "# Write your code here\n",
    "import numpy as np\n",
    "\n",
    "# Create a 2D NumPy array\n",
    "array_2d = np.array([[1, 2],\n",
    "                     [3, 4]])\n",
    "\n",
    "# Create a 1D NumPy array\n",
    "array_1d = np.array([10, 20])\n",
    "\n",
    "# Add the 1D array to the 2D array using broadcasting\n",
    "result = array_2d + array_1d\n",
    "\n",
    "# Print the result\n",
    "print(result)\n"
   ]
  },
  {
   "cell_type": "markdown",
   "metadata": {},
   "source": [
    "\n",
    "## Question 16: Reshaping with `-1`  \n",
    "Write a Python code snippet to reshape a NumPy array with 9 elements into a 3x3 matrix using `-1` for automatic dimension calculation.\n",
    "\n",
    "### Example:\n",
    "- **Input:**  \n",
    "  `array([1, 2, 3, 4, 5, 6, 7, 8, 9])`\n",
    "  \n",
    "- **Output:**  \n",
    "  `array([[1, 2, 3],  \n",
    "         [4, 5, 6],  \n",
    "         [7, 8, 9]])`"
   ]
  },
  {
   "cell_type": "code",
   "execution_count": 33,
   "metadata": {},
   "outputs": [
    {
     "name": "stdout",
     "output_type": "stream",
     "text": [
      "[[1 2 3]\n",
      " [4 5 6]\n",
      " [7 8 9]]\n"
     ]
    }
   ],
   "source": [
    "# Write your code here\n",
    "import numpy as np\n",
    "\n",
    "# Create a NumPy array with 9 elements\n",
    "array = np.array([1, 2, 3, 4, 5, 6, 7, 8, 9])\n",
    "\n",
    "# Reshape the array into a 3x3 matrix using -1 for automatic dimension calculation\n",
    "reshaped_array = array.reshape(3, -1)\n",
    "\n",
    "# Print the reshaped array\n",
    "print(reshaped_array)\n"
   ]
  },
  {
   "cell_type": "markdown",
   "metadata": {},
   "source": [
    "## Question 17: Element-wise Square  \n",
    "Write a Python code snippet to square each element in a NumPy array.\n",
    "\n",
    "### Example:\n",
    "- **Input:**  \n",
    "  `array([1, 2, 3, 4])`\n",
    "  \n",
    "- **Output:**  \n",
    "  `array([1, 4, 9, 16])`\n"
   ]
  },
  {
   "cell_type": "code",
   "execution_count": 17,
   "metadata": {},
   "outputs": [],
   "source": [
    "# Write your code here\n",
    "import numpy as np\n",
    "\n",
    "# Create a NumPy array\n",
    "array = np.array([1, 2, 3, 4])\n",
    "\n",
    "# Square each element using np.square\n",
    "squared_array = np.square(array)\n",
    "\n",
    "\n",
    "# Print the result\n",
    "print(squared_array)\n",
    "\n"
   ]
  },
  {
   "cell_type": "markdown",
   "metadata": {},
   "source": [
    "## Question 18: Counting Elements  \n",
    "Write a Python code snippet to count the occurrences of a particular element (e.g., 3) in a NumPy array.\n",
    "\n",
    "### Example:\n",
    "- **Input:**  \n",
    "  `array([1, 2, 3, 3, 4, 3])`\n",
    "  \n",
    "- **Output:**  \n",
    "  `3`"
   ]
  },
  {
   "cell_type": "code",
   "execution_count": 35,
   "metadata": {},
   "outputs": [
    {
     "name": "stdout",
     "output_type": "stream",
     "text": [
      "3\n"
     ]
    }
   ],
   "source": [
    "# Write your code here\n",
    "import numpy as np\n",
    "\n",
    "# Create a NumPy array\n",
    "array = np.array([1, 2, 3, 3, 4, 3])\n",
    "\n",
    "# Count the occurrences of the element 3\n",
    "count = np.sum(array == 3)\n",
    "\n",
    "# Print the result\n",
    "print(count)\n"
   ]
  },
  {
   "cell_type": "code",
   "execution_count": null,
   "metadata": {},
   "outputs": [],
   "source": []
  }
 ],
 "metadata": {
  "colab": {
   "provenance": []
  },
  "kernelspec": {
   "display_name": "Python [conda env:base] *",
   "language": "python",
   "name": "conda-base-py"
  },
  "language_info": {
   "codemirror_mode": {
    "name": "ipython",
    "version": 3
   },
   "file_extension": ".py",
   "mimetype": "text/x-python",
   "name": "python",
   "nbconvert_exporter": "python",
   "pygments_lexer": "ipython3",
   "version": "3.12.7"
  },
  "panel-cell-order": [
   "685e23ac",
   "4e21d997",
   "2be7fe20",
   "c6a0779b",
   "ecf7648c",
   "38e07587",
   "47e38f65",
   "9c2dd1b0",
   "3d891fcf",
   "78036a15",
   "bf61a38b",
   "549efbec",
   "ddccaa9b",
   "930f16b7",
   "8500b1d5",
   "a6fd006b",
   "37a2c4aa",
   "1a9c157e"
  ]
 },
 "nbformat": 4,
 "nbformat_minor": 4
}
