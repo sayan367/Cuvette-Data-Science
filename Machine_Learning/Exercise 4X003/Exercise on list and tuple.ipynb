{
 "cells": [
  {
   "cell_type": "markdown",
   "metadata": {
    "id": "CYhyEEltNiaN"
   },
   "source": [
    "# Exercise on List and Tuple"
   ]
  },
  {
   "cell_type": "markdown",
   "metadata": {
    "id": "ipb7u_0hNiaR"
   },
   "source": [
    "###  LIST"
   ]
  },
  {
   "cell_type": "markdown",
   "metadata": {
    "id": "duH76CsBNiaS"
   },
   "source": [
    "`Question:`:Create a list of numbers\n",
    "> nums = [1,2,3,4,5,6,7,8,9,10]"
   ]
  },
  {
   "cell_type": "code",
   "execution_count": 1,
   "metadata": {
    "id": "F4yQoFqLNtG7"
   },
   "outputs": [],
   "source": [
    "nums=[1,2,3,4,5,6,7,8,9,10]"
   ]
  },
  {
   "cell_type": "markdown",
   "metadata": {
    "id": "SEqXoFdsNiaW"
   },
   "source": [
    "**`Question:`** Remove number \"3\" in a list**"
   ]
  },
  {
   "cell_type": "code",
   "execution_count": 3,
   "metadata": {
    "id": "tpJyLOaFNiaX"
   },
   "outputs": [
    {
     "name": "stdout",
     "output_type": "stream",
     "text": [
      "[1, 2, 4, 5, 6, 7, 8, 9, 10]\n"
     ]
    }
   ],
   "source": [
    "nums = [1, 2, 3, 4, 5, 6, 7, 8, 9, 10]\n",
    "nums.remove(3)\n",
    "print(nums)\n"
   ]
  },
  {
   "cell_type": "markdown",
   "metadata": {
    "id": "WklAz5Q-Niaa"
   },
   "source": [
    "**`Question:` :Insert number \"1\" in 0th position**\n",
    "- lst = [2,3,4]"
   ]
  },
  {
   "cell_type": "code",
   "execution_count": 11,
   "metadata": {
    "id": "LmxCd5wVNiaa"
   },
   "outputs": [
    {
     "name": "stdout",
     "output_type": "stream",
     "text": [
      "[1, 2, 3, 4, 5, 6, 7, 8, 9, 10]\n"
     ]
    }
   ],
   "source": [
    "nums= [ 2, 3, 4, 5, 6, 7, 8, 9, 10]\n",
    "nums.insert(0,1)\n",
    "print(nums)"
   ]
  },
  {
   "cell_type": "markdown",
   "metadata": {
    "id": "dAGpPZTxNiab"
   },
   "source": [
    "**`Question:` Insert \"two-and-half\" in 2nd position**"
   ]
  },
  {
   "cell_type": "code",
   "execution_count": 13,
   "metadata": {
    "id": "Sz3b34hUNiac"
   },
   "outputs": [
    {
     "name": "stdout",
     "output_type": "stream",
     "text": [
      "[1, 2, 'two-and-half', 3, 4, 5, 6, 7, 8, 9, 10]\n"
     ]
    }
   ],
   "source": [
    "nums = [1, 2, 3, 4, 5, 6, 7, 8, 9, 10]\n",
    "nums.insert(2, \"two-and-half\")\n",
    "print(nums)\n"
   ]
  },
  {
   "cell_type": "markdown",
   "metadata": {
    "id": "t60OgyW4Niac"
   },
   "source": [
    "**`Question:` phrase = \"Don't panic!\"**\n",
    "- **Convert above text into list**"
   ]
  },
  {
   "cell_type": "code",
   "execution_count": 15,
   "metadata": {
    "id": "pwmUMkhcNiad"
   },
   "outputs": [
    {
     "data": {
      "text/plain": [
       "['D', 'o', 'n', \"'\", 't', ' ', 'p', 'a', 'n', 'i', 'c', '!']"
      ]
     },
     "execution_count": 15,
     "metadata": {},
     "output_type": "execute_result"
    }
   ],
   "source": [
    "['D', 'o', 'n', \"'\", 't', ' ', 'p', 'a', 'n', 'i', 'c', '!']\n"
   ]
  },
  {
   "cell_type": "markdown",
   "metadata": {
    "id": "CbqxqsHkNiad"
   },
   "source": [
    "*convert into list*"
   ]
  },
  {
   "cell_type": "markdown",
   "metadata": {
    "id": "_T5xpdtUNiae"
   },
   "source": [
    "`Question:` Remove ** '** and **!** in the list"
   ]
  },
  {
   "cell_type": "code",
   "execution_count": 17,
   "metadata": {
    "id": "YItUImXxNiae"
   },
   "outputs": [
    {
     "name": "stdout",
     "output_type": "stream",
     "text": [
      "['D', 'o', 'n', 't', ' ', 'p', 'a', 'n', 'i', 'c']\n"
     ]
    }
   ],
   "source": [
    "phrase = \"Don't panic!\"\n",
    "char_list = list(phrase)\n",
    "\n",
    "char_list.remove(\"'\")\n",
    "char_list.remove(\"!\")\n",
    "\n",
    "print(char_list)\n"
   ]
  },
  {
   "cell_type": "markdown",
   "metadata": {
    "id": "2Wkucr-nNiag"
   },
   "source": [
    "**`Question:` Join the given list `['p', 'a', 'n', 'D', 'a']`**"
   ]
  },
  {
   "cell_type": "code",
   "execution_count": 19,
   "metadata": {
    "id": "OGDBzcj2Niag"
   },
   "outputs": [
    {
     "name": "stdout",
     "output_type": "stream",
     "text": [
      "panDa\n"
     ]
    }
   ],
   "source": [
    "chars = ['p', 'a', 'n', 'D', 'a']\n",
    "result = ''.join(chars)\n",
    "print(result)\n"
   ]
  },
  {
   "cell_type": "markdown",
   "metadata": {
    "id": "sRLdjczoNiai"
   },
   "source": [
    "###  Tuples"
   ]
  },
  {
   "cell_type": "markdown",
   "metadata": {
    "id": "D_vX_xhiNiai"
   },
   "source": [
    "**`Question:` Create a tuples for numbers 10,20,30,40,55,50 as nums**"
   ]
  },
  {
   "cell_type": "code",
   "execution_count": null,
   "metadata": {
    "id": "IidHbDDiNiai"
   },
   "outputs": [],
   "source": [
    "nums = (10, 20, 30, 40, 55, 50)\n",
    "print(nums)\n"
   ]
  },
  {
   "cell_type": "markdown",
   "metadata": {
    "id": "wfDGOvm5Niaj"
   },
   "source": [
    "**`Question:` Remove number \"55\" in a tuple**\n",
    "\n",
    "*Hint:* Convert into list"
   ]
  },
  {
   "cell_type": "code",
   "execution_count": null,
   "metadata": {
    "id": "MrwxuL3cNiaj"
   },
   "outputs": [],
   "source": [
    "nums = (10, 20, 30, 40, 55, 50)\n",
    "\n",
    "# Step 1: Convert to list\n",
    "nums_list = list(nums)\n",
    "\n",
    "# Step 2: Remove 55\n",
    "nums_list.remove(55)\n",
    "\n",
    "# Step 3: Convert back to tuple\n",
    "nums = tuple(nums_list)\n",
    "\n",
    "print(nums)\n"
   ]
  },
  {
   "cell_type": "markdown",
   "metadata": {},
   "source": [
    "`Question:` Write a Python program to count the occurrences of a specific element in a tuple.\n",
    "\n",
    "`Example:` tup = (1, 2, 3, 4, 2, 2, 5)"
   ]
  },
  {
   "cell_type": "code",
   "execution_count": null,
   "metadata": {},
   "outputs": [],
   "source": [
    "tup = (1, 2, 3, 4, 2, 2, 5)\n",
    "\n",
    "# Element to count\n",
    "element = 2\n",
    "\n",
    "# Count occurrences\n",
    "count = tup.count(element)\n",
    "\n",
    "print(f\"The element {element} appears {count} times in the tuple.\")\n"
   ]
  },
  {
   "cell_type": "markdown",
   "metadata": {},
   "source": [
    "`Question:` Write a Python program to find the index of the first occurrence of an element in a tuple.\n",
    "\n",
    "`Example:` tup = (10, 20, 30, 40, 50)"
   ]
  },
  {
   "cell_type": "code",
   "execution_count": null,
   "metadata": {},
   "outputs": [],
   "source": [
    "tup = (10, 20, 30, 40, 50)\n",
    "\n",
    "# Element to find\n",
    "element = 30\n",
    "\n",
    "# Find index\n",
    "index = tup.index(element)\n",
    "\n",
    "print(f\"The element {element} is found at index {index}.\")\n"
   ]
  },
  {
   "cell_type": "markdown",
   "metadata": {},
   "source": [
    "`Question:` Write a Python program to concatenate two tuples into a new tuple.\n",
    "\n",
    "`Example:` tup1 = (1, 2, 3) and tup2 = (4, 5, 6)"
   ]
  },
  {
   "cell_type": "code",
   "execution_count": null,
   "metadata": {},
   "outputs": [],
   "source": [
    "tup1 = (1, 2, 3)\n",
    "tup2 = (4, 5, 6)\n",
    "\n",
    "# Concatenate tuples\n",
    "result = tup1 + tup2\n",
    "\n",
    "print(\"Concatenated Tuple:\", result)\n"
   ]
  },
  {
   "cell_type": "markdown",
   "metadata": {},
   "source": [
    "`Question:` Write a Python program to repeat a tuple three times to create a new tuple.\n",
    "\n",
    "`Example:` tup = (1, 2)"
   ]
  },
  {
   "cell_type": "code",
   "execution_count": 21,
   "metadata": {},
   "outputs": [
    {
     "name": "stdout",
     "output_type": "stream",
     "text": [
      "Repeated Tuple: (1, 2, 1, 2, 1, 2)\n"
     ]
    }
   ],
   "source": [
    "tup = (1, 2)\n",
    "\n",
    "# Repeat the tuple 3 times\n",
    "repeated_tup = tup * 3\n",
    "\n",
    "print(\"Repeated Tuple:\", repeated_tup)\n"
   ]
  },
  {
   "cell_type": "markdown",
   "metadata": {},
   "source": [
    "\n",
    "\n",
    "`Question:` Write a Python program to slice a tuple to get a specific portion of it.\n",
    "\n",
    "`Example:` tup = (10, 20, 30, 40, 50)\n",
    "\n",
    "`Output:` (20, 30, 40)\n"
   ]
  },
  {
   "cell_type": "code",
   "execution_count": 23,
   "metadata": {},
   "outputs": [
    {
     "name": "stdout",
     "output_type": "stream",
     "text": [
      "Sliced Tuple: (20, 30, 40)\n"
     ]
    }
   ],
   "source": [
    "tup = (10, 20, 30, 40, 50)\n",
    "\n",
    "# Slice from index 1 to 4 (not including index 4)\n",
    "sliced_tup = tup[1:4]\n",
    "\n",
    "print(\"Sliced Tuple:\", sliced_tup)\n"
   ]
  },
  {
   "cell_type": "code",
   "execution_count": null,
   "metadata": {},
   "outputs": [],
   "source": []
  }
 ],
 "metadata": {
  "colab": {
   "provenance": []
  },
  "kernelspec": {
   "display_name": "Python [conda env:base] *",
   "language": "python",
   "name": "conda-base-py"
  },
  "language_info": {
   "codemirror_mode": {
    "name": "ipython",
    "version": 3
   },
   "file_extension": ".py",
   "mimetype": "text/x-python",
   "name": "python",
   "nbconvert_exporter": "python",
   "pygments_lexer": "ipython3",
   "version": "3.12.7"
  }
 },
 "nbformat": 4,
 "nbformat_minor": 4
}
