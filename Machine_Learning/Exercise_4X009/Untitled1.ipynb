{
 "cells": [
  {
   "cell_type": "code",
   "execution_count": 1,
   "id": "d735d362-a9d8-4afd-a1c6-ce54582992b0",
   "metadata": {},
   "outputs": [],
   "source": [
    "# Import required libraries\n",
    "import pandas as pd\n",
    "import matplotlib.pyplot as plt\n",
    "import seaborn as sns\n",
    "import matplotlib.pyplot as plt\n"
   ]
  },
  {
   "cell_type": "code",
   "execution_count": 2,
   "id": "ab994c18-2814-4d18-a94c-95022f724dec",
   "metadata": {},
   "outputs": [],
   "source": [
    "df = pd.read_csv('/Users/sayansarkar/Downloads/Exercise 4X009/car price.csv')"
   ]
  },
  {
   "cell_type": "code",
   "execution_count": 3,
   "id": "61ceacbe-69c7-4716-bc25-cf9ef4c82ea4",
   "metadata": {},
   "outputs": [
    {
     "name": "stdout",
     "output_type": "stream",
     "text": [
      "Id                     int64\n",
      "Manufacturer          object\n",
      "Model                 object\n",
      "Prod_Year              int64\n",
      "Category              object\n",
      "Leather_Interioe      object\n",
      "Fuel_Type             object\n",
      "Engine Volume         object\n",
      "Kilometers_Driven    float64\n",
      "Gear_Box_Type         object\n",
      "Drive_Wheel           object\n",
      "Selling_Date          object\n",
      "Wheel                 object\n",
      "Color                 object\n",
      "Airbags              float64\n",
      "Price                  int64\n",
      "dtype: object\n"
     ]
    }
   ],
   "source": [
    "print(df.dtypes)"
   ]
  },
  {
   "cell_type": "code",
   "execution_count": 4,
   "id": "f816fadc-0a2a-4134-9bd9-cf9e5b311086",
   "metadata": {},
   "outputs": [
    {
     "name": "stdout",
     "output_type": "stream",
     "text": [
      "First 5 rows:\n",
      "          Id Manufacturer         Model  Prod_Year   Category Leather_Interioe  \\\n",
      "0  45624039         FORD       Mustang       2016  Cabriolet              Yes   \n",
      "1  45766794   MITSUBISHI        Pajero       1997       Jeep               No   \n",
      "2  45709646       TOYOTA         RAV 4       2001       Jeep               No   \n",
      "3  45816588       SUZUKI  Grand Vitara       2008       Jeep               No   \n",
      "4  45759758   MITSUBISHI   Pajero Mini       2006       Jeep               No   \n",
      "\n",
      "  Fuel_Type Engine Volume  Kilometers_Driven Gear_Box_Type Drive_Wheel  \\\n",
      "0    Petrol     2.3 Turbo            75000.0     Tiptronic        Rear   \n",
      "1    Petrol           2.4           142000.0     Automatic         4x4   \n",
      "2    Petrol             2            91000.0     Automatic         4x4   \n",
      "3    Petrol           1.6            98000.0     Automatic         4x4   \n",
      "4    Petrol           0.7           314000.0        Manual         4x4   \n",
      "\n",
      "  Selling_Date             Wheel   Color  Airbags   Price  \n",
      "0   02-03-2023        Left wheel  Silver      6.0  423370  \n",
      "1   02-03-2023        Left wheel    Blue      6.0  156810  \n",
      "2   02-03-2023  Right-hand drive  Silver      4.0  108200  \n",
      "3   02-03-2023        Left wheel   Black     12.0  156810  \n",
      "4   02-03-2023  Right-hand drive  Silver      2.0   43910  \n",
      "\n",
      "Dataset Info:\n",
      "<class 'pandas.core.frame.DataFrame'>\n",
      "RangeIndex: 4819 entries, 0 to 4818\n",
      "Data columns (total 16 columns):\n",
      " #   Column             Non-Null Count  Dtype  \n",
      "---  ------             --------------  -----  \n",
      " 0   Id                 4819 non-null   int64  \n",
      " 1   Manufacturer       4819 non-null   object \n",
      " 2   Model              4819 non-null   object \n",
      " 3   Prod_Year          4819 non-null   int64  \n",
      " 4   Category           4819 non-null   object \n",
      " 5   Leather_Interioe   4819 non-null   object \n",
      " 6   Fuel_Type          4819 non-null   object \n",
      " 7   Engine Volume      4819 non-null   object \n",
      " 8   Kilometers_Driven  4733 non-null   float64\n",
      " 9   Gear_Box_Type      4819 non-null   object \n",
      " 10  Drive_Wheel        4819 non-null   object \n",
      " 11  Selling_Date       4819 non-null   object \n",
      " 12  Wheel              4819 non-null   object \n",
      " 13  Color              4819 non-null   object \n",
      " 14  Airbags            4650 non-null   float64\n",
      " 15  Price              4819 non-null   int64  \n",
      "dtypes: float64(2), int64(3), object(11)\n",
      "memory usage: 602.5+ KB\n",
      "None\n",
      "\n",
      "Summary Statistics:\n",
      "                  Id Manufacturer   Model   Prod_Year Category  \\\n",
      "count   4.819000e+03         4819    4819  4819.00000     4819   \n",
      "unique           NaN           51     682         NaN        4   \n",
      "top              NaN      HYUNDAI  Sonata         NaN    Sedan   \n",
      "freq             NaN         1292     403         NaN     2820   \n",
      "mean    4.562941e+07          NaN     NaN  2011.30110      NaN   \n",
      "std     6.639721e+05          NaN     NaN     5.43882      NaN   \n",
      "min     2.813594e+07          NaN     NaN  1943.00000      NaN   \n",
      "25%     4.572981e+07          NaN     NaN  2010.00000      NaN   \n",
      "50%     4.577619e+07          NaN     NaN  2012.00000      NaN   \n",
      "75%     4.580211e+07          NaN     NaN  2015.00000      NaN   \n",
      "max     4.581665e+07          NaN     NaN  2020.00000      NaN   \n",
      "\n",
      "       Leather_Interioe Fuel_Type Engine Volume  Kilometers_Driven  \\\n",
      "count              4819      4819          4819       4.733000e+03   \n",
      "unique                2         4            86                NaN   \n",
      "top                 Yes    Petrol             2                NaN   \n",
      "freq               3734      2665          1256                NaN   \n",
      "mean                NaN       NaN           NaN       1.708417e+06   \n",
      "std                 NaN       NaN           NaN       5.107095e+07   \n",
      "min                 NaN       NaN           NaN       1.600000e+03   \n",
      "25%                 NaN       NaN           NaN       7.267800e+04   \n",
      "50%                 NaN       NaN           NaN       1.245090e+05   \n",
      "75%                 NaN       NaN           NaN       1.840000e+05   \n",
      "max                 NaN       NaN           NaN       2.147484e+09   \n",
      "\n",
      "       Gear_Box_Type Drive_Wheel Selling_Date       Wheel  Color      Airbags  \\\n",
      "count           4819        4819         4819        4819   4819  4650.000000   \n",
      "unique             3           3            3           2     16          NaN   \n",
      "top        Automatic       Front   04-05-2023  Left wheel  Black          NaN   \n",
      "freq            3365        3214         2594        4575   1318          NaN   \n",
      "mean             NaN         NaN          NaN         NaN    NaN     6.772688   \n",
      "std              NaN         NaN          NaN         NaN    NaN     3.912210   \n",
      "min              NaN         NaN          NaN         NaN    NaN     0.000000   \n",
      "25%              NaN         NaN          NaN         NaN    NaN     4.000000   \n",
      "50%              NaN         NaN          NaN         NaN    NaN     6.000000   \n",
      "75%              NaN         NaN          NaN         NaN    NaN    12.000000   \n",
      "max              NaN         NaN          NaN         NaN    NaN    16.000000   \n",
      "\n",
      "               Price  \n",
      "count   4.819000e+03  \n",
      "unique           NaN  \n",
      "top              NaN  \n",
      "freq             NaN  \n",
      "mean    2.181001e+05  \n",
      "std     1.911478e+05  \n",
      "min     2.038000e+04  \n",
      "25%     1.003600e+05  \n",
      "50%     1.724900e+05  \n",
      "75%     2.728400e+05  \n",
      "max     2.885210e+06  \n"
     ]
    }
   ],
   "source": [
    "# 1. Data Inspection and Summary Statistics\n",
    "print(\"First 5 rows:\\n\", df.head())\n",
    "print(\"\\nDataset Info:\")\n",
    "print(df.info())\n",
    "print(\"\\nSummary Statistics:\")\n",
    "print(df.describe(include='all'))"
   ]
  },
  {
   "cell_type": "code",
   "execution_count": 5,
   "id": "f8dfa376-bf9c-4d4b-83ec-0beb6100b693",
   "metadata": {},
   "outputs": [
    {
     "name": "stdout",
     "output_type": "stream",
     "text": [
      "\n",
      "Missing Values:\n",
      " Id                     0\n",
      "Manufacturer           0\n",
      "Model                  0\n",
      "Prod_Year              0\n",
      "Category               0\n",
      "Leather_Interioe       0\n",
      "Fuel_Type              0\n",
      "Engine Volume          0\n",
      "Kilometers_Driven     86\n",
      "Gear_Box_Type          0\n",
      "Drive_Wheel            0\n",
      "Selling_Date           0\n",
      "Wheel                  0\n",
      "Color                  0\n",
      "Airbags              169\n",
      "Price                  0\n",
      "dtype: int64\n"
     ]
    }
   ],
   "source": [
    "# 2. Data Cleaning\n",
    "# Check missing values\n",
    "print(\"\\nMissing Values:\\n\", df.isnull().sum())"
   ]
  },
  {
   "cell_type": "code",
   "execution_count": 12,
   "id": "cb1995fa-477a-4121-a276-be0ad9752474",
   "metadata": {},
   "outputs": [
    {
     "name": "stdout",
     "output_type": "stream",
     "text": [
      "       Price\n",
      "0     423370\n",
      "1     156810\n",
      "2     108200\n",
      "3     156810\n",
      "4      43910\n",
      "...      ...\n",
      "4812  194440\n",
      "4813  392010\n",
      "4814  376330\n",
      "4816  166210\n",
      "4818  141130\n",
      "\n",
      "[4149 rows x 1 columns]\n"
     ]
    }
   ],
   "source": [
    "# Drop or fill missing values\n",
    "df = df.dropna()  # or df.fillna(df.mean(numeric_only=True))\n",
    "\n",
    "# Outlier removal for price (if not done yet)\n",
    "Q1 = df['Price'].quantile(0.25)\n",
    "Q3 = df['Price'].quantile(0.75)\n",
    "IQR = Q3 - Q1\n",
    "df = df[(df['Price'] >= Q1 - 1.5 * IQR) & (df['Price'] <= Q3 + 1.5 * IQR)]\n",
    "# Find outliers\n",
    "outliers =  df[(df['Price'] >= Q1 - 1.5 * IQR) & (df['Price'] <= Q3 + 1.5 * IQR)]\n",
    "print(outliers[['Price']])\n"
   ]
  },
  {
   "cell_type": "code",
   "execution_count": 8,
   "id": "963083f7-2fde-4494-8caa-02cb0b8b6aa4",
   "metadata": {},
   "outputs": [
    {
     "name": "stdout",
     "output_type": "stream",
     "text": [
      "\n",
      "Missing Values:\n",
      " Id                   0\n",
      "Manufacturer         0\n",
      "Model                0\n",
      "Prod_Year            0\n",
      "Category             0\n",
      "Leather_Interioe     0\n",
      "Fuel_Type            0\n",
      "Engine Volume        0\n",
      "Kilometers_Driven    0\n",
      "Gear_Box_Type        0\n",
      "Drive_Wheel          0\n",
      "Selling_Date         0\n",
      "Wheel                0\n",
      "Color                0\n",
      "Airbags              0\n",
      "Price                0\n",
      "dtype: int64\n"
     ]
    }
   ],
   "source": [
    "print(\"\\nMissing Values:\\n\", df.isnull().sum())"
   ]
  },
  {
   "cell_type": "code",
   "execution_count": 9,
   "id": "9626fcfe-3b2d-4a5a-a629-725ac63ec304",
   "metadata": {},
   "outputs": [
    {
     "name": "stdout",
     "output_type": "stream",
     "text": [
      "Index(['Id', 'Manufacturer', 'Model', 'Prod_Year', 'Category',\n",
      "       'Leather_Interioe', 'Fuel_Type', 'Engine Volume', 'Kilometers_Driven',\n",
      "       'Gear_Box_Type', 'Drive_Wheel', 'Selling_Date', 'Wheel', 'Color',\n",
      "       'Airbags', 'Price'],\n",
      "      dtype='object')\n"
     ]
    }
   ],
   "source": [
    "print(df.columns)"
   ]
  },
  {
   "cell_type": "code",
   "execution_count": null,
   "id": "d542fa9d-434a-47d3-889f-f3e82938a41e",
   "metadata": {},
   "outputs": [],
   "source": []
  }
 ],
 "metadata": {
  "kernelspec": {
   "display_name": "Python [conda env:base] *",
   "language": "python",
   "name": "conda-base-py"
  },
  "language_info": {
   "codemirror_mode": {
    "name": "ipython",
    "version": 3
   },
   "file_extension": ".py",
   "mimetype": "text/x-python",
   "name": "python",
   "nbconvert_exporter": "python",
   "pygments_lexer": "ipython3",
   "version": "3.12.7"
  }
 },
 "nbformat": 4,
 "nbformat_minor": 5
}
