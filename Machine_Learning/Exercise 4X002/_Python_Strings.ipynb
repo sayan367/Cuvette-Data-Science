{
 "cells": [
  {
   "cell_type": "markdown",
   "metadata": {
    "id": "Y_jUsTzt-rCd"
   },
   "source": [
    "# Exercise on Python String"
   ]
  },
  {
   "cell_type": "markdown",
   "metadata": {},
   "source": [
    "## Question 1: Using `swapcase()`\n",
    "Write a Python function `swap_case(s)` that takes a string `s` and returns the string with all uppercase letters converted to lowercase and all lowercase letters converted to uppercase.\n",
    "\n",
    "### Example:\n",
    "\n",
    "- **Input:**  \n",
    "  `\"Hello World\"`\n",
    "  \n",
    "- **Output:**  \n",
    "  `\"hELLO wORLD\"`\n",
    "\n"
   ]
  },
  {
   "cell_type": "code",
   "execution_count": 1,
   "metadata": {
    "id": "jSewmQwW-rCq"
   },
   "outputs": [
    {
     "name": "stdout",
     "output_type": "stream",
     "text": [
      "hELLO wORLD\n"
     ]
    }
   ],
   "source": [
    "def swap_case(s):\n",
    "    return s.swapcase()\n",
    "\n",
    "# Example usage\n",
    "input_string = \"Hello World\"\n",
    "output_string = swap_case(input_string)\n",
    "print(output_string)\n"
   ]
  },
  {
   "cell_type": "markdown",
   "metadata": {},
   "source": [
    "## Question 2: Using `startswith()` and `endswith()`\n",
    "Write a Python code snippet that checks if the string `s` starts with the word `prefix` and ends with the word `suffix`. The result should be a tuple with two boolean values.\n",
    "\n",
    "### Example:\n",
    "\n",
    "- **Input:**  \n",
    "  `s = \"hello world\"`, `prefix = \"hello\"`, `suffix = \"world\"`\n",
    "  \n",
    "- **Output:**  \n",
    "  `(True, True)`"
   ]
  },
  {
   "cell_type": "code",
   "execution_count": 3,
   "metadata": {},
   "outputs": [
    {
     "name": "stdout",
     "output_type": "stream",
     "text": [
      "(True, True)\n"
     ]
    }
   ],
   "source": [
    "def check_prefix_suffix(s, prefix, suffix):\n",
    "    return (s.startswith(prefix), s.endswith(suffix))\n",
    "\n",
    "# Example usage\n",
    "s = \"hello world\"\n",
    "prefix = \"hello\"\n",
    "suffix = \"world\"\n",
    "result = check_prefix_suffix(s, prefix, suffix)\n",
    "print(result)\n"
   ]
  },
  {
   "cell_type": "markdown",
   "metadata": {},
   "source": [
    "## Question 3: Using `replace()`\n",
    "Write a Python code snippet that replaces all spaces in the string `s` with underscores (`_`).\n",
    "\n",
    "### Example:\n",
    "\n",
    "- **Input:**  \n",
    "  `\"Python is awesome\"`\n",
    "  \n",
    "- **Output:**  \n",
    "  `\"Python_is_awesome\"`"
   ]
  },
  {
   "cell_type": "code",
   "execution_count": 5,
   "metadata": {},
   "outputs": [
    {
     "name": "stdout",
     "output_type": "stream",
     "text": [
      "Python_is_awesome\n"
     ]
    }
   ],
   "source": [
    "def replace_spaces(s):\n",
    "    return s.replace(' ', '_')\n",
    "\n",
    "# Example usage\n",
    "input_string = \"Python is awesome\"\n",
    "output_string = replace_spaces(input_string)\n",
    "print(output_string)\n"
   ]
  },
  {
   "cell_type": "markdown",
   "metadata": {},
   "source": [
    "## Question 4: Using `find()`\n",
    "Write a Python code snippet that checks if the string `s` contains the word `substring`. Return the index of the first occurrence of `substring`. If not found, return `-1`.\n",
    "\n",
    "### Example:\n",
    "\n",
    "- **Input:**  \n",
    "  `\"The quick brown fox jumped over the lazy dog\", \"fox\"`\n",
    "  \n",
    "- **Output:**  \n",
    "  `16`"
   ]
  },
  {
   "cell_type": "code",
   "execution_count": 7,
   "metadata": {},
   "outputs": [
    {
     "name": "stdout",
     "output_type": "stream",
     "text": [
      "16\n"
     ]
    }
   ],
   "source": [
    "def find_substring(s, substring):\n",
    "    return s.find(substring)\n",
    "\n",
    "# Example usage\n",
    "s = \"The quick brown fox jumped over the lazy dog\"\n",
    "substring = \"fox\"\n",
    "index = find_substring(s, substring)\n",
    "print(index)\n",
    "\n"
   ]
  },
  {
   "cell_type": "markdown",
   "metadata": {},
   "source": [
    "## Question 5: Using `split()`\n",
    "Write a Python code snippet that splits the string `s` into a list of words using a space as a delimiter.\n",
    "\n",
    "### Example:\n",
    "\n",
    "- **Input:**  \n",
    "  `\"Apple, Banana, Orange, Grapes\"`\n",
    "  \n",
    "- **Output:**  \n",
    "  `['Apple', 'Banana', 'Orange', 'Grapes']`"
   ]
  },
  {
   "cell_type": "code",
   "execution_count": 9,
   "metadata": {},
   "outputs": [
    {
     "name": "stdout",
     "output_type": "stream",
     "text": [
      "['Apple', 'Banana', 'Orange', 'Grapes']\n"
     ]
    }
   ],
   "source": [
    "def split_string(s):\n",
    "    return s.split(', ')\n",
    "\n",
    "# Example usage\n",
    "input_string = \"Apple, Banana, Orange, Grapes\"\n",
    "output_list = split_string(input_string)\n",
    "print(output_list)\n"
   ]
  },
  {
   "cell_type": "markdown",
   "metadata": {},
   "source": [
    "## Question 6: Using `join()`\n",
    "Write a Python code snippet that takes a list of fruits and joins them together using a comma and a space as separators.\n",
    "\n",
    "### Example:\n",
    "\n",
    "- **Input:**  \n",
    "  `['Apple', 'Mango', 'Pineapple']`\n",
    "  \n",
    "- **Output:**  \n",
    "  `\"Apple, Mango, Pineapple\"`"
   ]
  },
  {
   "cell_type": "code",
   "execution_count": 11,
   "metadata": {},
   "outputs": [
    {
     "name": "stdout",
     "output_type": "stream",
     "text": [
      "Apple, Mango, Pineapple\n"
     ]
    }
   ],
   "source": [
    "# Write your code here\n",
    "def join_fruits(fruits_list):\n",
    "    return ', '.join(fruits_list)\n",
    "\n",
    "# Example usage\n",
    "fruits = ['Apple', 'Mango', 'Pineapple']\n",
    "output_string = join_fruits(fruits)\n",
    "print(output_string)\n"
   ]
  },
  {
   "cell_type": "markdown",
   "metadata": {},
   "source": [
    "\n",
    "## Question 7: Using `replace()` with multiple replacements\n",
    "Write a Python code snippet that replaces all occurrences of the word \"dog\" with \"cat\" and \"fish\" with \"shark\" in the string `s`.\n",
    "\n",
    "### Example:\n",
    "\n",
    "- **Input:**  \n",
    "  `\"I have a dog and a fish at home\"`\n",
    "  \n",
    "- **Output:**  \n",
    "  `\"I have a cat and a shark at home\"`"
   ]
  },
  {
   "cell_type": "code",
   "execution_count": 13,
   "metadata": {},
   "outputs": [
    {
     "name": "stdout",
     "output_type": "stream",
     "text": [
      "I have a cat and a shark at home\n"
     ]
    }
   ],
   "source": [
    "def replace_multiple(s):\n",
    "    s = s.replace('dog', 'cat')\n",
    "    s = s.replace('fish', 'shark')\n",
    "    return s\n",
    "\n",
    "# Example usage\n",
    "input_string = \"I have a dog and a fish at home\"\n",
    "output_string = replace_multiple(input_string)\n",
    "print(output_string)\n"
   ]
  },
  {
   "cell_type": "markdown",
   "metadata": {},
   "source": [
    "\n",
    "\n",
    "## Question 8: Using `upper()` and `lower()`\n",
    "Write a Python code snippet that converts a string to uppercase, then checks if the string contains the word \"MOBILE\". Return `True` if it does, otherwise return `False`.\n",
    "\n",
    "### Example:\n",
    "\n",
    "- **Input:**  \n",
    "  `\"Samsung Galaxy Z Flip\"`\n",
    "  \n",
    "- **Output:**  \n",
    "  `True`\n",
    "\n"
   ]
  },
  {
   "cell_type": "code",
   "execution_count": 15,
   "metadata": {},
   "outputs": [
    {
     "name": "stdout",
     "output_type": "stream",
     "text": [
      "False\n"
     ]
    }
   ],
   "source": [
    "# Write your code here\n",
    "def contains_mobile(s):\n",
    "    s_upper = s.upper()\n",
    "    return \"MOBILE\" in s_upper\n",
    "\n",
    "# Example usage\n",
    "input_string = \"Samsung Galaxy Z Flip\"\n",
    "result = contains_mobile(input_string)\n",
    "print(result)\n"
   ]
  },
  {
   "cell_type": "markdown",
   "metadata": {},
   "source": [
    "## Question 9: Using `strip()`\n",
    "Write a Python code snippet that removes leading and trailing spaces from the string `s`.\n",
    "\n",
    "### Example:\n",
    "\n",
    "- **Input:**  \n",
    "  `\"    New York City    \"`\n",
    "  \n",
    "- **Output:**  \n",
    "  `\"New York City\"`"
   ]
  },
  {
   "cell_type": "code",
   "execution_count": 17,
   "metadata": {},
   "outputs": [
    {
     "name": "stdout",
     "output_type": "stream",
     "text": [
      "New York City\n",
      "True\n"
     ]
    }
   ],
   "source": [
    "def remove_spaces(s):\n",
    "    stripped = s.strip()\n",
    "    return stripped\n",
    "\n",
    "# Example usage\n",
    "input_string = \"    New York City    \"\n",
    "output_string = remove_spaces(input_string)\n",
    "print(output_string)\n",
    "print(output_string == \"New York City\")\n"
   ]
  },
  {
   "cell_type": "markdown",
   "metadata": {},
   "source": [
    "## Question 10: Using `count()`\n",
    "Write a Python code snippet that counts how many times the word \"coffee\" appears in the string `s`.\n",
    "\n",
    "### Example:\n",
    "\n",
    "- **Input:**  \n",
    "  `\"I love coffee, coffee is my favorite drink, coffee every morning\"`\n",
    "  \n",
    "- **Output:**  \n",
    "  `3`\n"
   ]
  },
  {
   "cell_type": "code",
   "execution_count": 19,
   "metadata": {},
   "outputs": [
    {
     "name": "stdout",
     "output_type": "stream",
     "text": [
      "3\n"
     ]
    }
   ],
   "source": [
    "def count_coffee(s):\n",
    "    return s.count(\"coffee\")\n",
    "\n",
    "# Example usage\n",
    "input_string = \"I love coffee, coffee is my favorite drink, coffee every morning\"\n",
    "count = count_coffee(input_string)\n",
    "print(count)\n"
   ]
  },
  {
   "cell_type": "markdown",
   "metadata": {},
   "source": [
    "## Question 11: Using Slicing for Substrings\n",
    "Write a Python code snippet that extracts the substring starting from the 5th character to the 10th character of the string `s`.\n",
    "\n",
    "### Example:\n",
    "- **Input:**  \n",
    "  `\"Artificial Intelligence\"`\n",
    "  \n",
    "- **Output:**  \n",
    "  `\"icial\"`"
   ]
  },
  {
   "cell_type": "code",
   "execution_count": 21,
   "metadata": {},
   "outputs": [
    {
     "name": "stdout",
     "output_type": "stream",
     "text": [
      "ficial\n"
     ]
    }
   ],
   "source": [
    "def extract_substring(s):\n",
    "    return s[4:10]  # Extracts characters from index 4 to 9 (5th to 10th character)\n",
    "\n",
    "# Example usage\n",
    "input_string = \"Artificial Intelligence\"\n",
    "output_substring = extract_substring(input_string)\n",
    "print(output_substring)\n"
   ]
  },
  {
   "cell_type": "markdown",
   "metadata": {},
   "source": [
    "## Question 12: Slicing with Negative Indices\n",
    "Write a Python code snippet that extracts the last 4 characters of the string `s` using negative indices.\n",
    "\n",
    "### Example:\n",
    "- **Input:**  \n",
    "  `\"DataScience\"`\n",
    "  \n",
    "- **Output:**  \n",
    "  `\"ence\"`"
   ]
  },
  {
   "cell_type": "code",
   "execution_count": 23,
   "metadata": {},
   "outputs": [
    {
     "name": "stdout",
     "output_type": "stream",
     "text": [
      "ence\n"
     ]
    }
   ],
   "source": [
    "def extract_last_four_chars(s):\n",
    "    return s[-4:]\n",
    "\n",
    "# Example usage\n",
    "input_string = \"DataScience\"\n",
    "output_substring = extract_last_four_chars(input_string)\n",
    "print(output_substring)\n"
   ]
  },
  {
   "cell_type": "markdown",
   "metadata": {},
   "source": [
    "## Question 13: Reversing a String\n",
    "Write a Python code snippet that reverses the string `s` using slicing.\n",
    "\n",
    "### Example:\n",
    "- **Input:**  \n",
    "  `\"Hello\"`\n",
    "  \n",
    "- **Output:**  \n",
    "  `\"olleH\"`"
   ]
  },
  {
   "cell_type": "code",
   "execution_count": 25,
   "metadata": {},
   "outputs": [
    {
     "name": "stdout",
     "output_type": "stream",
     "text": [
      "olleH\n"
     ]
    }
   ],
   "source": [
    "def reverse_string(s):\n",
    "    return s[::-1]\n",
    "\n",
    "# Example usage\n",
    "input_string = \"Hello\"\n",
    "reversed_string = reverse_string(input_string)\n",
    "print(reversed_string)\n"
   ]
  },
  {
   "cell_type": "markdown",
   "metadata": {},
   "source": [
    "## Question 14: Slicing with a Step\n",
    "Write a Python code snippet that extracts every second character from the string `s` using slicing.\n",
    "\n",
    "### Example:\n",
    "- **Input:**  \n",
    "  `\"Python\"`\n",
    "  \n",
    "- **Output:**  \n",
    "  `\"Pto\"`"
   ]
  },
  {
   "cell_type": "code",
   "execution_count": 27,
   "metadata": {},
   "outputs": [
    {
     "name": "stdout",
     "output_type": "stream",
     "text": [
      "Pto\n"
     ]
    }
   ],
   "source": [
    "def extract_every_second_char(s):\n",
    "    return s[::2]\n",
    "\n",
    "# Example usage\n",
    "input_string = \"Python\"\n",
    "output_string = extract_every_second_char(input_string)\n",
    "print(output_string)\n"
   ]
  },
  {
   "cell_type": "code",
   "execution_count": null,
   "metadata": {},
   "outputs": [],
   "source": []
  }
 ],
 "metadata": {
  "colab": {
   "provenance": []
  },
  "kernelspec": {
   "display_name": "Python [conda env:base] *",
   "language": "python",
   "name": "conda-base-py"
  },
  "language_info": {
   "codemirror_mode": {
    "name": "ipython",
    "version": 3
   },
   "file_extension": ".py",
   "mimetype": "text/x-python",
   "name": "python",
   "nbconvert_exporter": "python",
   "pygments_lexer": "ipython3",
   "version": "3.12.7"
  }
 },
 "nbformat": 4,
 "nbformat_minor": 4
}
