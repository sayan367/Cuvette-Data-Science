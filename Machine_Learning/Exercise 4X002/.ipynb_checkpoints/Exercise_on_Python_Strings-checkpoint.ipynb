{
 "cells": [
  {
   "cell_type": "markdown",
   "metadata": {
    "id": "Y_jUsTzt-rCd"
   },
   "source": [
    "# Exercise on Python String"
   ]
  },
  {
   "cell_type": "markdown",
   "metadata": {},
   "source": [
    "## Question 1: Using `swapcase()`\n",
    "Write a Python function `swap_case(s)` that takes a string `s` and returns the string with all uppercase letters converted to lowercase and all lowercase letters converted to uppercase.\n",
    "\n",
    "### Example:\n",
    "\n",
    "- **Input:**  \n",
    "  `\"Hello World\"`\n",
    "  \n",
    "- **Output:**  \n",
    "  `\"hELLO wORLD\"`\n",
    "\n"
   ]
  },
  {
   "cell_type": "code",
   "execution_count": 1,
   "metadata": {
    "id": "jSewmQwW-rCq"
   },
   "outputs": [],
   "source": [
    "# Write you Code here\n"
   ]
  },
  {
   "cell_type": "markdown",
   "metadata": {},
   "source": [
    "## Question 2: Using `startswith()` and `endswith()`\n",
    "Write a Python code snippet that checks if the string `s` starts with the word `prefix` and ends with the word `suffix`. The result should be a tuple with two boolean values.\n",
    "\n",
    "### Example:\n",
    "\n",
    "- **Input:**  \n",
    "  `s = \"hello world\"`, `prefix = \"hello\"`, `suffix = \"world\"`\n",
    "  \n",
    "- **Output:**  \n",
    "  `(True, True)`"
   ]
  },
  {
   "cell_type": "code",
   "execution_count": 2,
   "metadata": {},
   "outputs": [],
   "source": [
    "# Write you code here\n"
   ]
  },
  {
   "cell_type": "markdown",
   "metadata": {},
   "source": [
    "## Question 3: Using `replace()`\n",
    "Write a Python code snippet that replaces all spaces in the string `s` with underscores (`_`).\n",
    "\n",
    "### Example:\n",
    "\n",
    "- **Input:**  \n",
    "  `\"Python is awesome\"`\n",
    "  \n",
    "- **Output:**  \n",
    "  `\"Python_is_awesome\"`"
   ]
  },
  {
   "cell_type": "code",
   "execution_count": 3,
   "metadata": {},
   "outputs": [],
   "source": [
    "# Write your code here\n"
   ]
  },
  {
   "cell_type": "markdown",
   "metadata": {},
   "source": [
    "## Question 4: Using `find()`\n",
    "Write a Python code snippet that checks if the string `s` contains the word `substring`. Return the index of the first occurrence of `substring`. If not found, return `-1`.\n",
    "\n",
    "### Example:\n",
    "\n",
    "- **Input:**  \n",
    "  `\"The quick brown fox jumped over the lazy dog\", \"fox\"`\n",
    "  \n",
    "- **Output:**  \n",
    "  `16`"
   ]
  },
  {
   "cell_type": "code",
   "execution_count": 4,
   "metadata": {},
   "outputs": [],
   "source": [
    "# Write your code here\n"
   ]
  },
  {
   "cell_type": "markdown",
   "metadata": {},
   "source": [
    "## Question 5: Using `split()`\n",
    "Write a Python code snippet that splits the string `s` into a list of words using a space as a delimiter.\n",
    "\n",
    "### Example:\n",
    "\n",
    "- **Input:**  \n",
    "  `\"Apple, Banana, Orange, Grapes\"`\n",
    "  \n",
    "- **Output:**  \n",
    "  `['Apple', 'Banana', 'Orange', 'Grapes']`"
   ]
  },
  {
   "cell_type": "code",
   "execution_count": 5,
   "metadata": {},
   "outputs": [],
   "source": [
    "# Write your code here\n"
   ]
  },
  {
   "cell_type": "markdown",
   "metadata": {},
   "source": [
    "## Question 6: Using `join()`\n",
    "Write a Python code snippet that takes a list of fruits and joins them together using a comma and a space as separators.\n",
    "\n",
    "### Example:\n",
    "\n",
    "- **Input:**  \n",
    "  `['Apple', 'Mango', 'Pineapple']`\n",
    "  \n",
    "- **Output:**  \n",
    "  `\"Apple, Mango, Pineapple\"`"
   ]
  },
  {
   "cell_type": "code",
   "execution_count": 6,
   "metadata": {},
   "outputs": [],
   "source": [
    "# Write your code here\n"
   ]
  },
  {
   "cell_type": "markdown",
   "metadata": {},
   "source": [
    "\n",
    "## Question 7: Using `replace()` with multiple replacements\n",
    "Write a Python code snippet that replaces all occurrences of the word \"dog\" with \"cat\" and \"fish\" with \"shark\" in the string `s`.\n",
    "\n",
    "### Example:\n",
    "\n",
    "- **Input:**  \n",
    "  `\"I have a dog and a fish at home\"`\n",
    "  \n",
    "- **Output:**  \n",
    "  `\"I have a cat and a shark at home\"`"
   ]
  },
  {
   "cell_type": "code",
   "execution_count": 7,
   "metadata": {},
   "outputs": [],
   "source": [
    "# Write your code here"
   ]
  },
  {
   "cell_type": "markdown",
   "metadata": {},
   "source": [
    "\n",
    "\n",
    "## Question 8: Using `upper()` and `lower()`\n",
    "Write a Python code snippet that converts a string to uppercase, then checks if the string contains the word \"MOBILE\". Return `True` if it does, otherwise return `False`.\n",
    "\n",
    "### Example:\n",
    "\n",
    "- **Input:**  \n",
    "  `\"Samsung Galaxy Z Flip\"`\n",
    "  \n",
    "- **Output:**  \n",
    "  `True`\n",
    "\n"
   ]
  },
  {
   "cell_type": "code",
   "execution_count": 8,
   "metadata": {},
   "outputs": [],
   "source": [
    "# Write your code here\n"
   ]
  },
  {
   "cell_type": "markdown",
   "metadata": {},
   "source": [
    "## Question 9: Using `strip()`\n",
    "Write a Python code snippet that removes leading and trailing spaces from the string `s`.\n",
    "\n",
    "### Example:\n",
    "\n",
    "- **Input:**  \n",
    "  `\"    New York City    \"`\n",
    "  \n",
    "- **Output:**  \n",
    "  `\"New York City\"`"
   ]
  },
  {
   "cell_type": "code",
   "execution_count": 9,
   "metadata": {},
   "outputs": [],
   "source": [
    "# Write your code here\n"
   ]
  },
  {
   "cell_type": "markdown",
   "metadata": {},
   "source": [
    "## Question 10: Using `count()`\n",
    "Write a Python code snippet that counts how many times the word \"coffee\" appears in the string `s`.\n",
    "\n",
    "### Example:\n",
    "\n",
    "- **Input:**  \n",
    "  `\"I love coffee, coffee is my favorite drink, coffee every morning\"`\n",
    "  \n",
    "- **Output:**  \n",
    "  `3`\n"
   ]
  },
  {
   "cell_type": "code",
   "execution_count": 10,
   "metadata": {},
   "outputs": [],
   "source": [
    "# Write your code here"
   ]
  },
  {
   "cell_type": "markdown",
   "metadata": {},
   "source": [
    "## Question 11: Using Slicing for Substrings\n",
    "Write a Python code snippet that extracts the substring starting from the 5th character to the 10th character of the string `s`.\n",
    "\n",
    "### Example:\n",
    "- **Input:**  \n",
    "  `\"Artificial Intelligence\"`\n",
    "  \n",
    "- **Output:**  \n",
    "  `\"icial\"`"
   ]
  },
  {
   "cell_type": "code",
   "execution_count": null,
   "metadata": {},
   "outputs": [],
   "source": []
  },
  {
   "cell_type": "markdown",
   "metadata": {},
   "source": [
    "## Question 12: Slicing with Negative Indices\n",
    "Write a Python code snippet that extracts the last 4 characters of the string `s` using negative indices.\n",
    "\n",
    "### Example:\n",
    "- **Input:**  \n",
    "  `\"DataScience\"`\n",
    "  \n",
    "- **Output:**  \n",
    "  `\"ence\"`"
   ]
  },
  {
   "cell_type": "code",
   "execution_count": 11,
   "metadata": {},
   "outputs": [],
   "source": [
    "# write your code here\n"
   ]
  },
  {
   "cell_type": "markdown",
   "metadata": {},
   "source": [
    "## Question 13: Reversing a String\n",
    "Write a Python code snippet that reverses the string `s` using slicing.\n",
    "\n",
    "### Example:\n",
    "- **Input:**  \n",
    "  `\"Hello\"`\n",
    "  \n",
    "- **Output:**  \n",
    "  `\"olleH\"`"
   ]
  },
  {
   "cell_type": "code",
   "execution_count": 12,
   "metadata": {},
   "outputs": [],
   "source": [
    "# Write your code here"
   ]
  },
  {
   "cell_type": "markdown",
   "metadata": {},
   "source": [
    "## Question 14: Slicing with a Step\n",
    "Write a Python code snippet that extracts every second character from the string `s` using slicing.\n",
    "\n",
    "### Example:\n",
    "- **Input:**  \n",
    "  `\"Python\"`\n",
    "  \n",
    "- **Output:**  \n",
    "  `\"Pto\"`"
   ]
  },
  {
   "cell_type": "code",
   "execution_count": 13,
   "metadata": {},
   "outputs": [],
   "source": [
    "# Write your code here"
   ]
  },
  {
   "cell_type": "code",
   "execution_count": null,
   "metadata": {},
   "outputs": [],
   "source": []
  }
 ],
 "metadata": {
  "colab": {
   "provenance": []
  },
  "kernelspec": {
   "display_name": "Python 3",
   "language": "python",
   "name": "python3"
  },
  "language_info": {
   "codemirror_mode": {
    "name": "ipython",
    "version": 3
   },
   "file_extension": ".py",
   "mimetype": "text/x-python",
   "name": "python",
   "nbconvert_exporter": "python",
   "pygments_lexer": "ipython3",
   "version": "3.13.0"
  }
 },
 "nbformat": 4,
 "nbformat_minor": 0
}
