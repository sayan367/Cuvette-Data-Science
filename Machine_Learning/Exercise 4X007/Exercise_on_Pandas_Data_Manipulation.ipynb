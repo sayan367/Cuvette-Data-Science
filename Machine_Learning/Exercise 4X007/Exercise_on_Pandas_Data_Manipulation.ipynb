{
  "nbformat": 4,
  "nbformat_minor": 0,
  "metadata": {
    "colab": {
      "provenance": []
    },
    "kernelspec": {
      "name": "python3",
      "display_name": "Python 3"
    },
    "language_info": {
      "name": "python"
    }
  },
  "cells": [
    {
      "cell_type": "markdown",
      "source": [
        "# Pandas Data Manipulation Exercise\n",
        "\n",
        "## Objective\n",
        "\n",
        "This Exercise will help you gain hands-on experience with key Pandas operations, including data creation, exploration, filtering, slicing, merging, concatenating, and grouping data. Each task aims to build foundational skills in manipulating data using Pandas.\n",
        "\n",
        "## Instructions\n",
        "\n",
        "Complete each task sequentially, answering all questions.\n",
        "Add comments to explain your code where necessary.\n",
        "Submit your work as a Jupyter Notebook (.ipynb) or a Python script (.py)."
      ],
      "metadata": {
        "id": "tMksho4SKSD8"
      }
    },
    {
      "cell_type": "code",
      "execution_count": 1,
      "metadata": {
        "id": "kjUDDt_rrl8l"
      },
      "outputs": [],
      "source": []
    },
    {
      "cell_type": "markdown",
      "source": [
        "## Dataset Setup\n",
        "#### **Create a DataFrame df_sales using the following data:** ####\n",
        "                \n",
        "| Order_ID | Product     | Category    | Quantity | Price | Store_Location |\n",
        "|----------|-------------|-------------|----------|-------|----------------|\n",
        "| 1        | Laptop      | Electronics | 3        | 800   | New York       |\n",
        "| 2        | Headphones  | Electronics | 5        | 150   | San Francisco  |\n",
        "| 3        | Chair       | Furniture   | 10       | 85    | New York       |\n",
        "| 4        | Desk        | Furniture   | 2        | 200   | Chicago        |\n",
        "| 5        | Monitor     | Electronics | 4        | 300   | San Francisco  |\n",
        "| 6        | Lamp        | Furniture   | 7        | 40    | New York       |\n",
        "| 7        | Smartphone  | Electronics | 6        | 600   | Chicago        |\n",
        "| 8        | Sofa        | Furniture   | 1        | 500   | San Francisco  |\n"
      ],
      "metadata": {
        "id": "QTg-SkpQs7hi"
      }
    },
    {
      "cell_type": "code",
      "source": [
        "# Create a DataFrame using pandas library\n",
        "\n",
        "# CODE HERE"
      ],
      "metadata": {
        "id": "jOxtmmx21tR0"
      },
      "execution_count": 2,
      "outputs": []
    },
    {
      "cell_type": "markdown",
      "source": [
        "## Tasks and Questions\n",
        "\n",
        "#### Task 1: Basic DataFrame Information"
      ],
      "metadata": {
        "id": "kVGl_RussQLq"
      }
    },
    {
      "cell_type": "markdown",
      "source": [
        "1.Display the first 5 rows and last 5 rows of df_sales using .head() and .tail().\n",
        "\n",
        "**Question:** What are the products listed in the first and last rows?"
      ],
      "metadata": {
        "id": "XXANAbiksW22"
      }
    },
    {
      "cell_type": "code",
      "source": [
        "# CODE HERE"
      ],
      "metadata": {
        "id": "KSb_KhiwsP4Q"
      },
      "execution_count": 3,
      "outputs": []
    },
    {
      "cell_type": "markdown",
      "source": [
        "### **Data Structure**\n",
        "\n",
        "Use .size, .shape, and .ndim to find the total number of elements, the number of rows and columns, and the dimensions of df_sales.\n",
        "\n",
        "**Question:** How many rows and columns are in df_sales?\n",
        "\n"
      ],
      "metadata": {
        "id": "q-Zubs43ufiZ"
      }
    },
    {
      "cell_type": "code",
      "source": [
        "# CODE HERE"
      ],
      "metadata": {
        "id": "TYUm-RjpufBH"
      },
      "execution_count": 4,
      "outputs": []
    },
    {
      "cell_type": "markdown",
      "source": [
        "#### Column Information\n",
        "Use .columns and .dtypes to check the column names and data types.\n",
        "\n",
        "**Question:** Which columns contain numeric data?"
      ],
      "metadata": {
        "id": "9f07QnyjunwB"
      }
    },
    {
      "cell_type": "code",
      "source": [
        "# CODE HERE"
      ],
      "metadata": {
        "id": "AltPMYJmusfh"
      },
      "execution_count": 5,
      "outputs": []
    },
    {
      "cell_type": "markdown",
      "source": [
        "## Task 2: Descriptive Statistics\n",
        "#### Summary Statistics\n",
        "\n",
        "Use .describe() to view summary statistics for numeric columns.\n",
        "**Question:** What is the average quantity sold? What is the maximum price?\n"
      ],
      "metadata": {
        "id": "ItgVpVXS2cQL"
      }
    },
    {
      "cell_type": "code",
      "source": [
        "# CODE HERE"
      ],
      "metadata": {
        "id": "IGhrr17AwkmL"
      },
      "execution_count": 6,
      "outputs": []
    },
    {
      "cell_type": "code",
      "source": [],
      "metadata": {
        "id": "MFMjH2nH3WkE"
      },
      "execution_count": 6,
      "outputs": []
    },
    {
      "cell_type": "code",
      "source": [],
      "metadata": {
        "id": "kM05y-h43WII"
      },
      "execution_count": 6,
      "outputs": []
    },
    {
      "cell_type": "markdown",
      "source": [
        "\n",
        "#### Missing Values\n",
        "\n",
        "Use .info() to get a concise summary of df_sales.\n",
        "Question: Are there any missing values?\n"
      ],
      "metadata": {
        "id": "Os9yrPg73XEu"
      }
    },
    {
      "cell_type": "code",
      "source": [
        "# CODE HERE"
      ],
      "metadata": {
        "id": "iYnGRoPY3Yvd"
      },
      "execution_count": 7,
      "outputs": []
    },
    {
      "cell_type": "markdown",
      "source": [
        "#### Min and Max Price\n",
        "Find the minimum, maximum, average values of the Price column.\n",
        "\n",
        "Question: What is the lowest price and which product has it?"
      ],
      "metadata": {
        "id": "rVwyjs7v3Z3x"
      }
    },
    {
      "cell_type": "code",
      "source": [
        "# CODE HERE"
      ],
      "metadata": {
        "id": "yF1lgR2N3aQf"
      },
      "execution_count": 8,
      "outputs": []
    },
    {
      "cell_type": "code",
      "source": [],
      "metadata": {
        "id": "8EZ12LE139_s"
      },
      "execution_count": 8,
      "outputs": []
    },
    {
      "cell_type": "markdown",
      "source": [
        "## Task 3: Filtering and Slicing\n",
        "\n",
        "#### **Filter by Category**\n",
        "\n",
        "Filter rows where Category is \"Electronics\".\n",
        "\n",
        "**Question:** How many electronic products are in the dataset?\n"
      ],
      "metadata": {
        "id": "o3KAO0HA4dOY"
      }
    },
    {
      "cell_type": "code",
      "source": [
        "# CODE HERE"
      ],
      "metadata": {
        "id": "m2ZugZ5-4SD-"
      },
      "execution_count": 9,
      "outputs": []
    },
    {
      "cell_type": "code",
      "source": [],
      "metadata": {
        "id": "WLF3EWPm4R4j"
      },
      "execution_count": 9,
      "outputs": []
    },
    {
      "cell_type": "markdown",
      "source": [
        "#### Filter by Price\n",
        "\n",
        "Filter rows where Price is above 300.\n",
        "\n",
        "**Question:** What products have a price greater than 300?"
      ],
      "metadata": {
        "id": "jaFVT-T44uQI"
      }
    },
    {
      "cell_type": "code",
      "source": [
        "# CODE HERE"
      ],
      "metadata": {
        "id": "Xxj1bUWX4t30"
      },
      "execution_count": 10,
      "outputs": []
    },
    {
      "cell_type": "markdown",
      "source": [
        "\n",
        "#### Filter by Location\n",
        "Filter rows for orders from \"New York\".\n",
        "\n",
        "**Question:** How many orders were made from \"New York\"?\n"
      ],
      "metadata": {
        "id": "Q-Qeginr4g9y"
      }
    },
    {
      "cell_type": "code",
      "source": [
        "# CODE HERE"
      ],
      "metadata": {
        "id": "QER1JDT94KL8"
      },
      "execution_count": 11,
      "outputs": []
    },
    {
      "cell_type": "markdown",
      "source": [
        "## Indexing and Slicing\n",
        "\n",
        "Select only the Product and Quantity columns for the first 5 rows.\n",
        "\n",
        "**Question:** What are the names and quantities of the first five products?\n"
      ],
      "metadata": {
        "id": "VmXk6hds6zlu"
      }
    },
    {
      "cell_type": "code",
      "source": [
        "# CODE HERE"
      ],
      "metadata": {
        "id": "BKTBM-2I67ve"
      },
      "execution_count": 12,
      "outputs": []
    },
    {
      "cell_type": "markdown",
      "source": [
        "## Advanced Filtering\n",
        "Select rows where Category is \"Furniture\" and Quantity is more than 5.\n",
        "\n",
        "**Question:** How many furniture items have quantities greater than 5?\n"
      ],
      "metadata": {
        "id": "jso3micS6-Lk"
      }
    },
    {
      "cell_type": "code",
      "source": [
        "# CODE HERE"
      ],
      "metadata": {
        "id": "bAGOCyqV6-nU"
      },
      "execution_count": 13,
      "outputs": []
    },
    {
      "cell_type": "code",
      "source": [],
      "metadata": {
        "id": "hezw-OGP8hNJ"
      },
      "execution_count": 13,
      "outputs": []
    },
    {
      "cell_type": "markdown",
      "source": [
        "## Task 4: Adding and Modifying Columns\n",
        "\n",
        "#### Add Total Price Column\n",
        "\n",
        "Add a new column called Total_Price, calculated as Quantity * Price.\n",
        "\n",
        "**Question:** What is the total price for each product?\n",
        "\n"
      ],
      "metadata": {
        "id": "4awUJBjTGZXY"
      }
    },
    {
      "cell_type": "code",
      "source": [
        "# CODE HERE"
      ],
      "metadata": {
        "id": "P5dtlE_RG3r4"
      },
      "execution_count": 14,
      "outputs": []
    },
    {
      "cell_type": "code",
      "source": [],
      "metadata": {
        "id": "wxthK7KOGzPA"
      },
      "execution_count": 14,
      "outputs": []
    },
    {
      "cell_type": "markdown",
      "source": [
        "#### Add Price Category\n",
        "\n",
        "\n",
        "Add a new column called Price_Category, labeling products as \"High\" if Price > 300 and \"Low\" otherwise.\n",
        "\n",
        "**Question:** How many products fall into each price category?"
      ],
      "metadata": {
        "id": "fFNmqdI4Gz3e"
      }
    },
    {
      "cell_type": "code",
      "source": [
        "# CODE HERE"
      ],
      "metadata": {
        "id": "kANNU6alIHBy"
      },
      "execution_count": 15,
      "outputs": []
    },
    {
      "cell_type": "code",
      "source": [],
      "metadata": {
        "id": "BxdzuVQuJAap"
      },
      "execution_count": 15,
      "outputs": []
    },
    {
      "cell_type": "markdown",
      "source": [
        "\n",
        "\n",
        "\n",
        "\n",
        "\n",
        "Task 5: Merging and Concatenation\n",
        "Create a DataFrame df_discounts with the following data:\n",
        "\n",
        "\n",
        "| Category           | Discount_Percentage |\n",
        "|--------------------|---------------------|\n",
        "| Electronics        | 10                  |\n",
        "| Furniture          | 15                  |\n",
        "| Clothing           | 20                  |\n",
        "| Groceries          | 5                   |\n",
        "| Toys               | 25                  |\n",
        "| Books              | 30                  |\n",
        "| Sports Equipment   | 12                  |\n",
        "| Beauty             | 18                  |\n",
        "\n",
        "\n"
      ],
      "metadata": {
        "id": "neqHiU1xrmtD"
      }
    },
    {
      "cell_type": "code",
      "source": [
        "# CODE HERE"
      ],
      "metadata": {
        "id": "8EYhLjFQKb3a"
      },
      "execution_count": 16,
      "outputs": []
    },
    {
      "cell_type": "markdown",
      "source": [
        "## Merge DataFrames\n",
        "Merge df_sales and df_discounts based on the Category column using a left join. Save the result as df_combined.\n",
        "\n",
        "**Question:** How many rows are in df_combined?\n"
      ],
      "metadata": {
        "id": "E9smPkLDKcnh"
      }
    },
    {
      "cell_type": "code",
      "source": [
        "# CODE HERE"
      ],
      "metadata": {
        "id": "9HMmk63MKsev"
      },
      "execution_count": 17,
      "outputs": []
    },
    {
      "cell_type": "code",
      "source": [],
      "metadata": {
        "id": "cHnpky3uKtEP"
      },
      "execution_count": 17,
      "outputs": []
    },
    {
      "cell_type": "markdown",
      "source": [
        "### Calculate Discounted Price\n",
        "Add a new column called Discounted_Price in df_combined, using the formula: **Discounted_Price = Total_Price * (1 - Discount_Percentage / 100).**"
      ],
      "metadata": {
        "id": "TvXamh3RLHAE"
      }
    },
    {
      "cell_type": "code",
      "source": [
        "# CODE HERE"
      ],
      "metadata": {
        "id": "appxjtEgL8Yb"
      },
      "execution_count": 18,
      "outputs": []
    },
    {
      "cell_type": "markdown",
      "source": [
        "\n",
        "Question: What is the discounted price for each product?\n",
        "\n",
        "Concatenate DataFrames\n",
        "Concatenate df_sales with a new DataFrame df_extra_sales:\n",
        "\n",
        "| Order_ID | Product     | Category    | Quantity | Price | Store_Location |\n",
        "|----------|-------------|-------------|----------|-------|----------------|\n",
        "| 1        | Laptop      | Electronics | 3        | 800   | New York       |\n",
        "| 2        | Headphones  | Electronics | 5        | 150   | San Francisco  |\n",
        "| 3        | Chair       | Furniture   | 10       | 85    | New York       |\n",
        "| 4        | Desk        | Furniture   | 2        | 200   | Chicago        |\n",
        "| 5        | Monitor     | Electronics | 4        | 300   | San Francisco  |\n",
        "| 6        | Lamp        | Furniture   | 7        | 40    | New York       |\n",
        "| 7        | Smartphone  | Electronics | 6        | 600   | Chicago        |\n",
        "| 8        | Sofa        | Furniture   | 1        | 500   | San Francisco  |\n",
        "| 9        | Table       | Furniture   | 2        | 150   | Chicago        |\n",
        "| 10       | Speaker     | Electronics | 3        | 200   | San Francisco  |\n",
        "\n",
        "\n",
        "Question: After concatenation, how many total rows are in the updated DataFrame?\n",
        "\n"
      ],
      "metadata": {
        "id": "JZ5u0i4LKtrn"
      }
    },
    {
      "cell_type": "code",
      "source": [
        "# CODE HERE"
      ],
      "metadata": {
        "id": "0ZMq-xCfN1u8"
      },
      "execution_count": 19,
      "outputs": []
    },
    {
      "cell_type": "markdown",
      "source": [
        "# Task 6: Grouping and Aggregation\n",
        "\n",
        "#### Group by Category\n",
        "\n",
        "\n",
        "Group by Category to find the total quantity sold and average price per category.\n",
        "\n",
        "**Question:** Which category sold the highest quantity overall?\n",
        "\n"
      ],
      "metadata": {
        "id": "wQhlqr-nM33v"
      }
    },
    {
      "cell_type": "code",
      "source": [
        "# CODE HERE"
      ],
      "metadata": {
        "id": "oRz3n391Ng7x"
      },
      "execution_count": 20,
      "outputs": []
    },
    {
      "cell_type": "code",
      "source": [],
      "metadata": {
        "id": "eN2kjsEqNgmp"
      },
      "execution_count": 20,
      "outputs": []
    },
    {
      "cell_type": "markdown",
      "source": [
        "#### Group by Store Location\n",
        "Group by Store_Location to find the total quantity sold and total Total_Price at each location.\n",
        "\n",
        "**Question:** Which store location generated the highest revenue?\n",
        "\n"
      ],
      "metadata": {
        "id": "5sHx8dbaNhep"
      }
    },
    {
      "cell_type": "code",
      "source": [
        "# CODE HERE"
      ],
      "metadata": {
        "id": "3JxWV1uJNggi"
      },
      "execution_count": 21,
      "outputs": []
    },
    {
      "cell_type": "code",
      "source": [],
      "metadata": {
        "id": "9KJ7i9gjNkoR"
      },
      "execution_count": 21,
      "outputs": []
    },
    {
      "cell_type": "markdown",
      "source": [
        "#### Discounted Revenue Calculation\n",
        "Using df_combined, group by Category and calculate the average Discounted_Price and the total revenue after discounts.\n",
        "\n",
        "**Question:** What is the total discounted revenue for the \"Electronics\" category?"
      ],
      "metadata": {
        "id": "7IU3FWIqNlcD"
      }
    },
    {
      "cell_type": "code",
      "source": [
        "# CODE HERE"
      ],
      "metadata": {
        "id": "4LmRe4xbNkhN"
      },
      "execution_count": 22,
      "outputs": []
    },
    {
      "cell_type": "code",
      "source": [],
      "metadata": {
        "id": "JU46lZxQNYr0"
      },
      "execution_count": 22,
      "outputs": []
    }
  ]
}