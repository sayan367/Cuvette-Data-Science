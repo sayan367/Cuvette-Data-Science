{
  "nbformat": 4,
  "nbformat_minor": 0,
  "metadata": {
    "colab": {
      "provenance": []
    },
    "kernelspec": {
      "name": "python3",
      "display_name": "Python 3"
    },
    "language_info": {
      "name": "python"
    }
  },
  "cells": [
    {
      "cell_type": "markdown",
      "source": [
        "# Pandas Data Manipulation Exercise\n",
        "\n",
        "## Objective\n",
        "\n",
        "This Exercise will help you gain hands-on experience with key Pandas operations, including data creation, exploration, filtering, slicing, merging, concatenating, and grouping data. Each task aims to build foundational skills in manipulating data using Pandas.\n",
        "\n",
        "## Instructions\n",
        "\n",
        "Complete each task sequentially, answering all questions.\n",
        "Add comments to explain your code where necessary.\n",
        "Submit your work as a Jupyter Notebook (.ipynb) or a Python script (.py)."
      ],
      "metadata": {
        "id": "tMksho4SKSD8"
      }
    },
    {
      "cell_type": "code",
      "execution_count": null,
      "metadata": {
        "id": "kjUDDt_rrl8l"
      },
      "outputs": [],
      "source": []
    },
    {
      "cell_type": "markdown",
      "source": [
        "## Dataset Setup\n",
        "#### **Create a DataFrame df_sales using the following data:** ####\n",
        "                \n",
        "| Order_ID | Product     | Category    | Quantity | Price | Store_Location |\n",
        "|----------|-------------|-------------|----------|-------|----------------|\n",
        "| 1        | Laptop      | Electronics | 3        | 800   | New York       |\n",
        "| 2        | Headphones  | Electronics | 5        | 150   | San Francisco  |\n",
        "| 3        | Chair       | Furniture   | 10       | 85    | New York       |\n",
        "| 4        | Desk        | Furniture   | 2        | 200   | Chicago        |\n",
        "| 5        | Monitor     | Electronics | 4        | 300   | San Francisco  |\n",
        "| 6        | Lamp        | Furniture   | 7        | 40    | New York       |\n",
        "| 7        | Smartphone  | Electronics | 6        | 600   | Chicago        |\n",
        "| 8        | Sofa        | Furniture   | 1        | 500   | San Francisco  |\n"
      ],
      "metadata": {
        "id": "QTg-SkpQs7hi"
      }
    },
    {
      "cell_type": "code",
      "source": [
        "# Create a DataFrame using pandas library\n",
        "\n",
        "# CODE HERE\n",
        "\n",
        "import pandas as pd\n",
        "\n",
        "data = {\n",
        "    'Order_ID': [1, 2, 3, 4, 5, 6, 7, 8],\n",
        "    'Product': ['Laptop', 'Headphones', 'Chair', 'Desk', 'Monitor', 'Lamp', 'Smartphone', 'Sofa'],\n",
        "    'Category': ['Electronics', 'Electronics', 'Furniture', 'Furniture', 'Electronics', 'Furniture', 'Electronics', 'Furniture'],\n",
        "    'Quantity': [3, 5, 10, 2, 4, 7, 6, 1],\n",
        "    'Price': [800, 150, 85, 200, 300, 40, 600, 500],\n",
        "    'Store_Location': ['New York', 'San Francisco', 'New York', 'Chicago', 'San Francisco', 'New York', 'Chicago', 'San Francisco']\n",
        "}\n",
        "\n",
        "df_sales = pd.DataFrame(data)\n"
      ],
      "metadata": {
        "id": "jOxtmmx21tR0"
      },
      "execution_count": 1,
      "outputs": []
    },
    {
      "cell_type": "markdown",
      "source": [
        "## Tasks and Questions\n",
        "\n",
        "#### Task 1: Basic DataFrame Information"
      ],
      "metadata": {
        "id": "kVGl_RussQLq"
      }
    },
    {
      "cell_type": "markdown",
      "source": [
        "1.Display the first 5 rows and last 5 rows of df_sales using .head() and .tail().\n",
        "\n",
        "**Question:** What are the products listed in the first and last rows?"
      ],
      "metadata": {
        "id": "XXANAbiksW22"
      }
    },
    {
      "cell_type": "code",
      "source": [
        "# CODE HERE\n",
        "# Display the first 5 rows\n",
        "print(\"First 5 rows:\")\n",
        "print(df_sales.head())\n",
        "\n",
        "# Display the last 5 rows\n",
        "print(\"\\nLast 5 rows:\")\n",
        "print(df_sales.tail())"
      ],
      "metadata": {
        "id": "KSb_KhiwsP4Q",
        "colab": {
          "base_uri": "https://localhost:8080/"
        },
        "outputId": "47dca015-fbcf-43d5-d039-8f2d03cba7ab"
      },
      "execution_count": 2,
      "outputs": [
        {
          "output_type": "stream",
          "name": "stdout",
          "text": [
            "First 5 rows:\n",
            "   Order_ID     Product     Category  Quantity  Price Store_Location\n",
            "0         1      Laptop  Electronics         3    800       New York\n",
            "1         2  Headphones  Electronics         5    150  San Francisco\n",
            "2         3       Chair    Furniture        10     85       New York\n",
            "3         4        Desk    Furniture         2    200        Chicago\n",
            "4         5     Monitor  Electronics         4    300  San Francisco\n",
            "\n",
            "Last 5 rows:\n",
            "   Order_ID     Product     Category  Quantity  Price Store_Location\n",
            "3         4        Desk    Furniture         2    200        Chicago\n",
            "4         5     Monitor  Electronics         4    300  San Francisco\n",
            "5         6        Lamp    Furniture         7     40       New York\n",
            "6         7  Smartphone  Electronics         6    600        Chicago\n",
            "7         8        Sofa    Furniture         1    500  San Francisco\n"
          ]
        }
      ]
    },
    {
      "cell_type": "markdown",
      "source": [
        "### **Data Structure**\n",
        "\n",
        "Use .size, .shape, and .ndim to find the total number of elements, the number of rows and columns, and the dimensions of df_sales.\n",
        "\n",
        "**Question:** How many rows and columns are in df_sales?\n",
        "\n"
      ],
      "metadata": {
        "id": "q-Zubs43ufiZ"
      }
    },
    {
      "cell_type": "code",
      "source": [
        "# CODE HERE\n",
        "# Total number of elements\n",
        "total_elements = df_sales.size\n",
        "print(\"Total elements:\", total_elements)\n",
        "\n",
        "# Number of rows and columns\n",
        "rows, columns = df_sales.shape\n",
        "print(\"Rows:\", rows)\n",
        "print(\"Columns:\", columns)\n",
        "\n",
        "# Dimensions of the DataFrame\n",
        "dimensions = df_sales.ndim\n",
        "print(\"Dimensions:\", dimensions)"
      ],
      "metadata": {
        "id": "TYUm-RjpufBH"
      },
      "execution_count": null,
      "outputs": []
    },
    {
      "cell_type": "markdown",
      "source": [
        "#### Column Information\n",
        "Use .columns and .dtypes to check the column names and data types.\n",
        "\n",
        "**Question:** Which columns contain numeric data?"
      ],
      "metadata": {
        "id": "9f07QnyjunwB"
      }
    },
    {
      "cell_type": "code",
      "source": [
        "# CODE HERE\n",
        "# Column names\n",
        "column_names = df_sales.columns\n",
        "print(\"Column names:\", column_names)\n",
        "\n",
        "# Data types of each column\n",
        "data_types = df_sales.dtypes\n",
        "print(\"\\nData types:\\n\", data_types)"
      ],
      "metadata": {
        "id": "AltPMYJmusfh",
        "colab": {
          "base_uri": "https://localhost:8080/"
        },
        "outputId": "3c345416-5c87-4d15-a90e-00aeb589098e"
      },
      "execution_count": 3,
      "outputs": [
        {
          "output_type": "stream",
          "name": "stdout",
          "text": [
            "Column names: Index(['Order_ID', 'Product', 'Category', 'Quantity', 'Price',\n",
            "       'Store_Location'],\n",
            "      dtype='object')\n",
            "\n",
            "Data types:\n",
            " Order_ID           int64\n",
            "Product           object\n",
            "Category          object\n",
            "Quantity           int64\n",
            "Price              int64\n",
            "Store_Location    object\n",
            "dtype: object\n"
          ]
        }
      ]
    },
    {
      "cell_type": "markdown",
      "source": [
        "## Task 2: Descriptive Statistics\n",
        "#### Summary Statistics\n",
        "\n",
        "Use .describe() to view summary statistics for numeric columns.\n",
        "**Question:** What is the average quantity sold? What is the maximum price?\n"
      ],
      "metadata": {
        "id": "ItgVpVXS2cQL"
      }
    },
    {
      "cell_type": "code",
      "source": [
        "# CODE HERE\n",
        "# Summary statistics for numeric columns\n",
        "summary_stats = df_sales.describe()\n",
        "print(summary_stats)"
      ],
      "metadata": {
        "id": "IGhrr17AwkmL",
        "colab": {
          "base_uri": "https://localhost:8080/"
        },
        "outputId": "166d37b7-2d91-4d81-ec03-172631f33911"
      },
      "execution_count": 4,
      "outputs": [
        {
          "output_type": "stream",
          "name": "stdout",
          "text": [
            "       Order_ID   Quantity       Price\n",
            "count   8.00000   8.000000    8.000000\n",
            "mean    4.50000   4.750000  334.375000\n",
            "std     2.44949   2.915476  271.733029\n",
            "min     1.00000   1.000000   40.000000\n",
            "25%     2.75000   2.750000  133.750000\n",
            "50%     4.50000   4.500000  250.000000\n",
            "75%     6.25000   6.250000  525.000000\n",
            "max     8.00000  10.000000  800.000000\n"
          ]
        }
      ]
    },
    {
      "cell_type": "code",
      "source": [],
      "metadata": {
        "id": "MFMjH2nH3WkE"
      },
      "execution_count": null,
      "outputs": []
    },
    {
      "cell_type": "code",
      "source": [],
      "metadata": {
        "id": "kM05y-h43WII"
      },
      "execution_count": null,
      "outputs": []
    },
    {
      "cell_type": "markdown",
      "source": [
        "\n",
        "#### Missing Values\n",
        "\n",
        "Use .info() to get a concise summary of df_sales.\n",
        "Question: Are there any missing values?\n"
      ],
      "metadata": {
        "id": "Os9yrPg73XEu"
      }
    },
    {
      "cell_type": "code",
      "source": [
        "# CODE HERE\n",
        "# Get concise summary of the DataFrame\n",
        "df_sales.info()"
      ],
      "metadata": {
        "id": "iYnGRoPY3Yvd",
        "colab": {
          "base_uri": "https://localhost:8080/"
        },
        "outputId": "79fd33fe-2672-4a1d-e4f9-b156de7975e8"
      },
      "execution_count": 5,
      "outputs": [
        {
          "output_type": "stream",
          "name": "stdout",
          "text": [
            "<class 'pandas.core.frame.DataFrame'>\n",
            "RangeIndex: 8 entries, 0 to 7\n",
            "Data columns (total 6 columns):\n",
            " #   Column          Non-Null Count  Dtype \n",
            "---  ------          --------------  ----- \n",
            " 0   Order_ID        8 non-null      int64 \n",
            " 1   Product         8 non-null      object\n",
            " 2   Category        8 non-null      object\n",
            " 3   Quantity        8 non-null      int64 \n",
            " 4   Price           8 non-null      int64 \n",
            " 5   Store_Location  8 non-null      object\n",
            "dtypes: int64(3), object(3)\n",
            "memory usage: 516.0+ bytes\n"
          ]
        }
      ]
    },
    {
      "cell_type": "markdown",
      "source": [
        "#### Min and Max Price\n",
        "Find the minimum, maximum, average values of the Price column.\n",
        "\n",
        "Question: What is the lowest price and which product has it?"
      ],
      "metadata": {
        "id": "rVwyjs7v3Z3x"
      }
    },
    {
      "cell_type": "code",
      "source": [
        "# CODE HERE\n",
        "# Minimum price\n",
        "min_price = df_sales['Price'].min()\n",
        "print(\"Minimum price:\", min_price)\n",
        "\n",
        "# Maximum price\n",
        "max_price = df_sales['Price'].max()\n",
        "print(\"Maximum price:\", max_price)\n",
        "\n",
        "# Average price\n",
        "avg_price = df_sales['Price'].mean()\n",
        "print(\"Average price:\", avg_price)\n",
        "\n",
        "# Product with the lowest price\n",
        "lowest_price_product = df_sales.loc[df_sales['Price'] == min_price, 'Product'].values[0]\n",
        "print(\"Product with the lowest price:\", lowest_price_product)"
      ],
      "metadata": {
        "id": "yF1lgR2N3aQf",
        "colab": {
          "base_uri": "https://localhost:8080/"
        },
        "outputId": "12ca14f1-bbd8-46cd-fadd-b98ca5baf47e"
      },
      "execution_count": 6,
      "outputs": [
        {
          "output_type": "stream",
          "name": "stdout",
          "text": [
            "Minimum price: 40\n",
            "Maximum price: 800\n",
            "Average price: 334.375\n",
            "Product with the lowest price: Lamp\n"
          ]
        }
      ]
    },
    {
      "cell_type": "code",
      "source": [],
      "metadata": {
        "id": "8EZ12LE139_s"
      },
      "execution_count": null,
      "outputs": []
    },
    {
      "cell_type": "markdown",
      "source": [
        "## Task 3: Filtering and Slicing\n",
        "\n",
        "#### **Filter by Category**\n",
        "\n",
        "Filter rows where Category is \"Electronics\".\n",
        "\n",
        "**Question:** How many electronic products are in the dataset?\n"
      ],
      "metadata": {
        "id": "o3KAO0HA4dOY"
      }
    },
    {
      "cell_type": "code",
      "source": [
        "# CODE HERE\n",
        "# Filter rows where Category is \"Electronics\"\n",
        "electronics_products = df_sales[df_sales['Category'] == 'Electronics']\n",
        "\n",
        "# Number of electronic products\n",
        "num_electronics_products = electronics_products.shape[0]\n",
        "print(\"Number of electronic products:\", num_electronics_products)"
      ],
      "metadata": {
        "id": "m2ZugZ5-4SD-",
        "colab": {
          "base_uri": "https://localhost:8080/"
        },
        "outputId": "bb3c061d-d5b1-4620-a396-06e759986ba5"
      },
      "execution_count": 7,
      "outputs": [
        {
          "output_type": "stream",
          "name": "stdout",
          "text": [
            "Number of electronic products: 4\n"
          ]
        }
      ]
    },
    {
      "cell_type": "code",
      "source": [],
      "metadata": {
        "id": "WLF3EWPm4R4j"
      },
      "execution_count": null,
      "outputs": []
    },
    {
      "cell_type": "markdown",
      "source": [
        "#### Filter by Price\n",
        "\n",
        "Filter rows where Price is above 300.\n",
        "\n",
        "**Question:** What products have a price greater than 300?"
      ],
      "metadata": {
        "id": "jaFVT-T44uQI"
      }
    },
    {
      "cell_type": "code",
      "source": [
        "# CODE HERE\n",
        "# Filter rows where Price is above 300\n",
        "filtered_df = df_sales[df_sales['Price'] > 300]\n",
        "\n",
        "# Get the products with price greater than 300\n",
        "products_above_300 = filtered_df['Product'].tolist()\n",
        "\n",
        "print(\"Products with a price greater than 300:\", products_above_300)"
      ],
      "metadata": {
        "id": "Xxj1bUWX4t30",
        "colab": {
          "base_uri": "https://localhost:8080/"
        },
        "outputId": "1ceb45d9-4d50-4ea4-987a-1638747a85e1"
      },
      "execution_count": 8,
      "outputs": [
        {
          "output_type": "stream",
          "name": "stdout",
          "text": [
            "Products with a price greater than 300: ['Laptop', 'Smartphone', 'Sofa']\n"
          ]
        }
      ]
    },
    {
      "cell_type": "markdown",
      "source": [
        "\n",
        "#### Filter by Location\n",
        "Filter rows for orders from \"New York\".\n",
        "\n",
        "**Question:** How many orders were made from \"New York\"?\n"
      ],
      "metadata": {
        "id": "Q-Qeginr4g9y"
      }
    },
    {
      "cell_type": "code",
      "source": [
        "# CODE HERE\n",
        "# Filter rows for orders from \"New York\"\n",
        "new_york_orders = df_sales[df_sales['Store_Location'] == 'New York']\n",
        "\n",
        "# Number of orders from New York\n",
        "num_new_york_orders = new_york_orders.shape[0]\n",
        "print(\"Number of orders from New York:\", num_new_york_orders)"
      ],
      "metadata": {
        "id": "QER1JDT94KL8",
        "colab": {
          "base_uri": "https://localhost:8080/"
        },
        "outputId": "f25a0adb-248f-46cf-a3de-3ba09fcb6d27"
      },
      "execution_count": 9,
      "outputs": [
        {
          "output_type": "stream",
          "name": "stdout",
          "text": [
            "Number of orders from New York: 3\n"
          ]
        }
      ]
    },
    {
      "cell_type": "markdown",
      "source": [
        "## Indexing and Slicing\n",
        "\n",
        "Select only the Product and Quantity columns for the first 5 rows.\n",
        "\n",
        "**Question:** What are the names and quantities of the first five products?\n"
      ],
      "metadata": {
        "id": "VmXk6hds6zlu"
      }
    },
    {
      "cell_type": "code",
      "source": [
        "# CODE HERE\n",
        "# Select Product and Quantity columns for the first 5 rows\n",
        "subset = df_sales[['Product', 'Quantity']].head(5)\n",
        "\n",
        "print(subset)"
      ],
      "metadata": {
        "id": "BKTBM-2I67ve",
        "colab": {
          "base_uri": "https://localhost:8080/"
        },
        "outputId": "dd3b98fb-0623-4320-e1cc-b66af2400b0c"
      },
      "execution_count": 10,
      "outputs": [
        {
          "output_type": "stream",
          "name": "stdout",
          "text": [
            "      Product  Quantity\n",
            "0      Laptop         3\n",
            "1  Headphones         5\n",
            "2       Chair        10\n",
            "3        Desk         2\n",
            "4     Monitor         4\n"
          ]
        }
      ]
    },
    {
      "cell_type": "markdown",
      "source": [
        "## Advanced Filtering\n",
        "Select rows where Category is \"Furniture\" and Quantity is more than 5.\n",
        "\n",
        "**Question:** How many furniture items have quantities greater than 5?\n"
      ],
      "metadata": {
        "id": "jso3micS6-Lk"
      }
    },
    {
      "cell_type": "code",
      "source": [
        "# CODE HERE\n",
        "# Filter rows where Category is \"Furniture\" and Quantity is more than 5\n",
        "filtered_df = df_sales[(df_sales['Category'] == 'Furniture') & (df_sales['Quantity'] > 5)]\n",
        "\n",
        "# Number of furniture items with quantities greater than"
      ],
      "metadata": {
        "id": "bAGOCyqV6-nU"
      },
      "execution_count": 11,
      "outputs": []
    },
    {
      "cell_type": "code",
      "source": [],
      "metadata": {
        "id": "hezw-OGP8hNJ"
      },
      "execution_count": null,
      "outputs": []
    },
    {
      "cell_type": "markdown",
      "source": [
        "## Task 4: Adding and Modifying Columns\n",
        "\n",
        "#### Add Total Price Column\n",
        "\n",
        "Add a new column called Total_Price, calculated as Quantity * Price.\n",
        "\n",
        "**Question:** What is the total price for each product?\n",
        "\n"
      ],
      "metadata": {
        "id": "4awUJBjTGZXY"
      }
    },
    {
      "cell_type": "code",
      "source": [
        "# CODE HERE\n",
        "# Add a new column called Total_Price, calculated as Quantity * Price.\n",
        "df_sales['Total_Price'] = df_sales['Quantity'] * df_sales['Price']\n",
        "\n",
        "# Display the DataFrame with the new column\n",
        "print(df_sales)"
      ],
      "metadata": {
        "id": "P5dtlE_RG3r4",
        "colab": {
          "base_uri": "https://localhost:8080/"
        },
        "outputId": "e11c85af-0bec-4e0d-86ea-21fa6a95cfc1"
      },
      "execution_count": 12,
      "outputs": [
        {
          "output_type": "stream",
          "name": "stdout",
          "text": [
            "   Order_ID     Product     Category  Quantity  Price Store_Location  \\\n",
            "0         1      Laptop  Electronics         3    800       New York   \n",
            "1         2  Headphones  Electronics         5    150  San Francisco   \n",
            "2         3       Chair    Furniture        10     85       New York   \n",
            "3         4        Desk    Furniture         2    200        Chicago   \n",
            "4         5     Monitor  Electronics         4    300  San Francisco   \n",
            "5         6        Lamp    Furniture         7     40       New York   \n",
            "6         7  Smartphone  Electronics         6    600        Chicago   \n",
            "7         8        Sofa    Furniture         1    500  San Francisco   \n",
            "\n",
            "   Total_Price  \n",
            "0         2400  \n",
            "1          750  \n",
            "2          850  \n",
            "3          400  \n",
            "4         1200  \n",
            "5          280  \n",
            "6         3600  \n",
            "7          500  \n"
          ]
        }
      ]
    },
    {
      "cell_type": "code",
      "source": [],
      "metadata": {
        "id": "wxthK7KOGzPA"
      },
      "execution_count": null,
      "outputs": []
    },
    {
      "cell_type": "markdown",
      "source": [
        "#### Add Price Category\n",
        "\n",
        "\n",
        "Add a new column called Price_Category, labeling products as \"High\" if Price > 300 and \"Low\" otherwise.\n",
        "\n",
        "**Question:** How many products fall into each price category?"
      ],
      "metadata": {
        "id": "fFNmqdI4Gz3e"
      }
    },
    {
      "cell_type": "code",
      "source": [
        "# CODE HERE\n",
        "import numpy as np\n",
        "# Add a new column called Price_Category\n",
        "df_sales['Price_Category'] = np.where(df_sales['Price'] > 300, 'High', 'Low')\n",
        "\n",
        "# Count the number of products in each price category\n",
        "price_category_counts = df_sales['Price_Category'].value_counts()\n",
        "\n",
        "print(\"Number of products in each price category:\\n\", price_category_counts)"
      ],
      "metadata": {
        "id": "kANNU6alIHBy",
        "colab": {
          "base_uri": "https://localhost:8080/"
        },
        "outputId": "599c7f70-8f78-4bc6-c497-ffbba73d423c"
      },
      "execution_count": 13,
      "outputs": [
        {
          "output_type": "stream",
          "name": "stdout",
          "text": [
            "Number of products in each price category:\n",
            " Price_Category\n",
            "Low     5\n",
            "High    3\n",
            "Name: count, dtype: int64\n"
          ]
        }
      ]
    },
    {
      "cell_type": "code",
      "source": [],
      "metadata": {
        "id": "BxdzuVQuJAap"
      },
      "execution_count": null,
      "outputs": []
    },
    {
      "cell_type": "markdown",
      "source": [
        "\n",
        "\n",
        "\n",
        "\n",
        "\n",
        "Task 5: Merging and Concatenation\n",
        "Create a DataFrame df_discounts with the following data:\n",
        "\n",
        "\n",
        "| Category           | Discount_Percentage |\n",
        "|--------------------|---------------------|\n",
        "| Electronics        | 10                  |\n",
        "| Furniture          | 15                  |\n",
        "| Clothing           | 20                  |\n",
        "| Groceries          | 5                   |\n",
        "| Toys               | 25                  |\n",
        "| Books              | 30                  |\n",
        "| Sports Equipment   | 12                  |\n",
        "| Beauty             | 18                  |\n",
        "\n",
        "\n"
      ],
      "metadata": {
        "id": "neqHiU1xrmtD"
      }
    },
    {
      "cell_type": "code",
      "source": [
        "# CODE HERE\n",
        "import pandas as pd\n",
        "\n",
        "data_discounts = {\n",
        "    'Category': ['Electronics', 'Furniture', 'Clothing', 'Groceries', 'Toys', 'Books', 'Sports Equipment', 'Beauty'],\n",
        "    'Discount_Percentage': [10, 15, 20, 5, 25, 30, 12, 18]\n",
        "}\n",
        "\n",
        "df_discounts = pd.DataFrame(data_discounts)"
      ],
      "metadata": {
        "id": "8EYhLjFQKb3a"
      },
      "execution_count": 14,
      "outputs": []
    },
    {
      "cell_type": "markdown",
      "source": [
        "## Merge DataFrames\n",
        "Merge df_sales and df_discounts based on the Category column using a left join. Save the result as df_combined.\n",
        "\n",
        "**Question:** How many rows are in df_combined?\n"
      ],
      "metadata": {
        "id": "E9smPkLDKcnh"
      }
    },
    {
      "cell_type": "code",
      "source": [
        "# CODE HERE\n",
        "# Merge df_sales and df_discounts based on the Category column using a left join\n",
        "df_combined = pd.merge(df_sales, df_discounts, on='Category', how='left')\n",
        "\n",
        "# Number of rows in df_combined\n",
        "num_rows = df_combined.shape[0]\n",
        "print(\"Number of rows in df_combined:\", num_rows)"
      ],
      "metadata": {
        "id": "9HMmk63MKsev",
        "colab": {
          "base_uri": "https://localhost:8080/"
        },
        "outputId": "6ac67bec-4e91-4f8c-d42b-6fb4ef9afa82"
      },
      "execution_count": 15,
      "outputs": [
        {
          "output_type": "stream",
          "name": "stdout",
          "text": [
            "Number of rows in df_combined: 8\n"
          ]
        }
      ]
    },
    {
      "cell_type": "code",
      "source": [],
      "metadata": {
        "id": "cHnpky3uKtEP"
      },
      "execution_count": null,
      "outputs": []
    },
    {
      "cell_type": "markdown",
      "source": [
        "### Calculate Discounted Price\n",
        "Add a new column called Discounted_Price in df_combined, using the formula: **Discounted_Price = Total_Price * (1 - Discount_Percentage / 100).**"
      ],
      "metadata": {
        "id": "TvXamh3RLHAE"
      }
    },
    {
      "cell_type": "code",
      "source": [
        "# CODE HERE\n",
        "# Add a new column called Discounted_Price\n",
        "df_combined['Discounted_Price'] = df_combined['Total_Price'] * (1 - df_combined['Discount_Percentage'] / 100)\n",
        "\n",
        "# Display the DataFrame with the new column\n",
        "print(df_combined)\n"
      ],
      "metadata": {
        "id": "appxjtEgL8Yb",
        "colab": {
          "base_uri": "https://localhost:8080/"
        },
        "outputId": "d92d95a8-b775-4542-eba2-7e6381095bfc"
      },
      "execution_count": 16,
      "outputs": [
        {
          "output_type": "stream",
          "name": "stdout",
          "text": [
            "   Order_ID     Product     Category  Quantity  Price Store_Location  \\\n",
            "0         1      Laptop  Electronics         3    800       New York   \n",
            "1         2  Headphones  Electronics         5    150  San Francisco   \n",
            "2         3       Chair    Furniture        10     85       New York   \n",
            "3         4        Desk    Furniture         2    200        Chicago   \n",
            "4         5     Monitor  Electronics         4    300  San Francisco   \n",
            "5         6        Lamp    Furniture         7     40       New York   \n",
            "6         7  Smartphone  Electronics         6    600        Chicago   \n",
            "7         8        Sofa    Furniture         1    500  San Francisco   \n",
            "\n",
            "   Total_Price Price_Category  Discount_Percentage  Discounted_Price  \n",
            "0         2400           High                   10            2160.0  \n",
            "1          750            Low                   10             675.0  \n",
            "2          850            Low                   15             722.5  \n",
            "3          400            Low                   15             340.0  \n",
            "4         1200            Low                   10            1080.0  \n",
            "5          280            Low                   15             238.0  \n",
            "6         3600           High                   10            3240.0  \n",
            "7          500           High                   15             425.0  \n"
          ]
        }
      ]
    },
    {
      "cell_type": "markdown",
      "source": [
        "\n",
        "Question: What is the discounted price for each product?\n",
        "\n",
        "Concatenate DataFrames\n",
        "Concatenate df_sales with a new DataFrame df_extra_sales:\n",
        "\n",
        "| Order_ID | Product     | Category    | Quantity | Price | Store_Location |\n",
        "|----------|-------------|-------------|----------|-------|----------------|\n",
        "| 1        | Laptop      | Electronics | 3        | 800   | New York       |\n",
        "| 2        | Headphones  | Electronics | 5        | 150   | San Francisco  |\n",
        "| 3        | Chair       | Furniture   | 10       | 85    | New York       |\n",
        "| 4        | Desk        | Furniture   | 2        | 200   | Chicago        |\n",
        "| 5        | Monitor     | Electronics | 4        | 300   | San Francisco  |\n",
        "| 6        | Lamp        | Furniture   | 7        | 40    | New York       |\n",
        "| 7        | Smartphone  | Electronics | 6        | 600   | Chicago        |\n",
        "| 8        | Sofa        | Furniture   | 1        | 500   | San Francisco  |\n",
        "| 9        | Table       | Furniture   | 2        | 150   | Chicago        |\n",
        "| 10       | Speaker     | Electronics | 3        | 200   | San Francisco  |\n",
        "\n",
        "\n",
        "Question: After concatenation, how many total rows are in the updated DataFrame?\n",
        "\n"
      ],
      "metadata": {
        "id": "JZ5u0i4LKtrn"
      }
    },
    {
      "cell_type": "code",
      "source": [
        "# CODE HERE\n",
        "print(df_combined)\n",
        "# Create df_extra_sales\n",
        "data_extra_sales = {\n",
        "    'Order_ID': [9, 10],\n",
        "    'Product': ['Table', 'Speaker'],\n",
        "    'Category': ['Furniture', 'Electronics'],\n",
        "    'Quantity': [2, 3],\n",
        "    'Price': [150, 200],\n",
        "    'Store_Location': ['Chicago', 'San Francisco']\n",
        "}\n",
        "df_extra_sales = pd.DataFrame(data_extra_sales)\n",
        "\n",
        "# Concatenate df_sales and df_extra_sales\n",
        "df_updated = pd.concat([df_sales, df_extra_sales], ignore_index=True)\n",
        "\n",
        "# Number of rows in the updated DataFrame\n",
        "num_rows_updated = df_updated.shape[0]\n",
        "print(\"Number of rows in the updated DataFrame:\", num_rows_updated)"
      ],
      "metadata": {
        "id": "0ZMq-xCfN1u8",
        "colab": {
          "base_uri": "https://localhost:8080/"
        },
        "outputId": "a8cef6d2-7dd1-476e-c479-18ab8e973621"
      },
      "execution_count": 18,
      "outputs": [
        {
          "output_type": "stream",
          "name": "stdout",
          "text": [
            "   Order_ID     Product     Category  Quantity  Price Store_Location  \\\n",
            "0         1      Laptop  Electronics         3    800       New York   \n",
            "1         2  Headphones  Electronics         5    150  San Francisco   \n",
            "2         3       Chair    Furniture        10     85       New York   \n",
            "3         4        Desk    Furniture         2    200        Chicago   \n",
            "4         5     Monitor  Electronics         4    300  San Francisco   \n",
            "5         6        Lamp    Furniture         7     40       New York   \n",
            "6         7  Smartphone  Electronics         6    600        Chicago   \n",
            "7         8        Sofa    Furniture         1    500  San Francisco   \n",
            "\n",
            "   Total_Price Price_Category  Discount_Percentage  Discounted_Price  \n",
            "0         2400           High                   10            2160.0  \n",
            "1          750            Low                   10             675.0  \n",
            "2          850            Low                   15             722.5  \n",
            "3          400            Low                   15             340.0  \n",
            "4         1200            Low                   10            1080.0  \n",
            "5          280            Low                   15             238.0  \n",
            "6         3600           High                   10            3240.0  \n",
            "7          500           High                   15             425.0  \n",
            "Number of rows in the updated DataFrame: 10\n"
          ]
        }
      ]
    },
    {
      "cell_type": "markdown",
      "source": [
        "# Task 6: Grouping and Aggregation\n",
        "\n",
        "#### Group by Category\n",
        "\n",
        "\n",
        "Group by Category to find the total quantity sold and average price per category.\n",
        "\n",
        "**Question:** Which category sold the highest quantity overall?\n",
        "\n"
      ],
      "metadata": {
        "id": "wQhlqr-nM33v"
      }
    },
    {
      "cell_type": "code",
      "source": [
        "# CODE HERE\n",
        "# Group by Category and calculate total quantity and average price\n",
        "category_grouped = df_sales.groupby('Category').agg({'Quantity': 'sum', 'Price': 'mean'})\n",
        "\n",
        "# Find the category with the highest quantity sold\n",
        "highest_quantity_category = category_grouped['Quantity'].idxmax()\n",
        "\n",
        "print(\"Category with the highest quantity sold:\", highest_quantity_category)"
      ],
      "metadata": {
        "id": "oRz3n391Ng7x",
        "colab": {
          "base_uri": "https://localhost:8080/"
        },
        "outputId": "7cde0f36-f95d-46c1-f779-b1f28f63ea3f"
      },
      "execution_count": 19,
      "outputs": [
        {
          "output_type": "stream",
          "name": "stdout",
          "text": [
            "Category with the highest quantity sold: Furniture\n"
          ]
        }
      ]
    },
    {
      "cell_type": "code",
      "source": [],
      "metadata": {
        "id": "eN2kjsEqNgmp"
      },
      "execution_count": null,
      "outputs": []
    },
    {
      "cell_type": "markdown",
      "source": [
        "#### Group by Store Location\n",
        "Group by Store_Location to find the total quantity sold and total Total_Price at each location.\n",
        "\n",
        "**Question:** Which store location generated the highest revenue?\n",
        "\n"
      ],
      "metadata": {
        "id": "5sHx8dbaNhep"
      }
    },
    {
      "cell_type": "code",
      "source": [
        "# CODE HERE\n",
        "# Group by Store_Location and calculate total quantity and total Total_Price\n",
        "location_grouped = df_sales.groupby('Store_Location').agg({'Quantity': 'sum', 'Total_Price': 'sum'})\n",
        "\n",
        "# Rename the 'Total_Price' column to 'Total_Revenue' for clarity\n",
        "location_grouped = location_grouped.rename(columns={'Total_Price': 'Total_Revenue'})\n",
        "\n",
        "# Find the store location with the highest revenue\n",
        "highest_revenue_location = location_grouped['Total_Revenue'].idxmax()\n",
        "\n",
        "print(\"Store location with the highest revenue:\", highest_revenue_location)"
      ],
      "metadata": {
        "id": "3JxWV1uJNggi",
        "colab": {
          "base_uri": "https://localhost:8080/"
        },
        "outputId": "fd8d12d6-4a9a-420f-da6b-23324908e08e"
      },
      "execution_count": 20,
      "outputs": [
        {
          "output_type": "stream",
          "name": "stdout",
          "text": [
            "Store location with the highest revenue: Chicago\n"
          ]
        }
      ]
    },
    {
      "cell_type": "code",
      "source": [],
      "metadata": {
        "id": "9KJ7i9gjNkoR"
      },
      "execution_count": null,
      "outputs": []
    },
    {
      "cell_type": "markdown",
      "source": [
        "#### Discounted Revenue Calculation\n",
        "Using df_combined, group by Category and calculate the average Discounted_Price and the total revenue after discounts.\n",
        "\n",
        "**Question:** What is the total discounted revenue for the \"Electronics\" category?"
      ],
      "metadata": {
        "id": "7IU3FWIqNlcD"
      }
    },
    {
      "cell_type": "code",
      "source": [
        "# CODE HERE\n",
        "# Group by Category and calculate average Discounted_Price and total discounted revenue\n",
        "category_grouped_discounted = df_combined.groupby('Category').agg({'Discounted_Price': ['mean', 'sum']})\n",
        "\n",
        "# Rename columns for clarity\n",
        "category_grouped_discounted.columns = ['Avg_Discounted_Price', 'Total_Discounted_Revenue']\n",
        "\n",
        "# Get the total discounted revenue for the \"Electronics\" category\n",
        "electronics_discounted_revenue = category_grouped_discounted.loc['Electronics', 'Total_Discounted_Revenue']\n",
        "\n",
        "print(\"Total discounted revenue for Electronics category:\", electronics_discounted_revenue)"
      ],
      "metadata": {
        "id": "4LmRe4xbNkhN",
        "colab": {
          "base_uri": "https://localhost:8080/"
        },
        "outputId": "83abf94c-da6e-4b23-dc45-a09e7522a262"
      },
      "execution_count": 21,
      "outputs": [
        {
          "output_type": "stream",
          "name": "stdout",
          "text": [
            "Total discounted revenue for Electronics category: 7155.0\n"
          ]
        }
      ]
    },
    {
      "cell_type": "code",
      "source": [],
      "metadata": {
        "id": "JU46lZxQNYr0"
      },
      "execution_count": null,
      "outputs": []
    }
  ]
}