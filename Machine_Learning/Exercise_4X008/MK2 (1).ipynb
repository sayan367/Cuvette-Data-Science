{
 "cells": [
  {
   "cell_type": "code",
   "execution_count": 2,
   "id": "114d47d1-3df1-4b86-8560-259ccc8227fe",
   "metadata": {},
   "outputs": [
    {
     "name": "stdout",
     "output_type": "stream",
     "text": [
      "\n",
      "Column Names and Data Types:\n",
      "\n",
      "Id                     int64\n",
      "Manufacturer          object\n",
      "Model                 object\n",
      "Prod_Year              int64\n",
      "Category              object\n",
      "Leather_Interioe      object\n",
      "Fuel_Type             object\n",
      "Engine Volume         object\n",
      "Kilometers_Driven    float64\n",
      "Gear_Box_Type         object\n",
      "Drive_Wheel           object\n",
      "Selling_Date          object\n",
      "Wheel                 object\n",
      "Color                 object\n",
      "Airbags              float64\n",
      "Price                  int64\n",
      "dtype: object\n",
      "\n",
      "First 5 Rows:\n",
      "\n",
      "         Id Manufacturer         Model  Prod_Year   Category Leather_Interioe  \\\n",
      "0  45624039         FORD       Mustang       2016  Cabriolet              Yes   \n",
      "1  45766794   MITSUBISHI        Pajero       1997       Jeep               No   \n",
      "2  45709646       TOYOTA         RAV 4       2001       Jeep               No   \n",
      "3  45816588       SUZUKI  Grand Vitara       2008       Jeep               No   \n",
      "4  45759758   MITSUBISHI   Pajero Mini       2006       Jeep               No   \n",
      "\n",
      "  Fuel_Type Engine Volume  Kilometers_Driven Gear_Box_Type Drive_Wheel  \\\n",
      "0    Petrol     2.3 Turbo            75000.0     Tiptronic        Rear   \n",
      "1    Petrol           2.4           142000.0     Automatic         4x4   \n",
      "2    Petrol             2            91000.0     Automatic         4x4   \n",
      "3    Petrol           1.6            98000.0     Automatic         4x4   \n",
      "4    Petrol           0.7           314000.0        Manual         4x4   \n",
      "\n",
      "  Selling_Date             Wheel   Color  Airbags   Price  \n",
      "0   02-03-2023        Left wheel  Silver      6.0  423370  \n",
      "1   02-03-2023        Left wheel    Blue      6.0  156810  \n",
      "2   02-03-2023  Right-hand drive  Silver      4.0  108200  \n",
      "3   02-03-2023        Left wheel   Black     12.0  156810  \n",
      "4   02-03-2023  Right-hand drive  Silver      2.0   43910  \n",
      "\n",
      "Summary Statistics (Numeric):\n",
      "\n",
      "                 Id   Prod_Year  Kilometers_Driven      Airbags         Price\n",
      "count  4.819000e+03  4819.00000       4.733000e+03  4650.000000  4.819000e+03\n",
      "mean   4.562941e+07  2011.30110       1.708417e+06     6.772688  2.181001e+05\n",
      "std    6.639721e+05     5.43882       5.107095e+07     3.912210  1.911478e+05\n",
      "min    2.813594e+07  1943.00000       1.600000e+03     0.000000  2.038000e+04\n",
      "25%    4.572981e+07  2010.00000       7.267800e+04     4.000000  1.003600e+05\n",
      "50%    4.577619e+07  2012.00000       1.245090e+05     6.000000  1.724900e+05\n",
      "75%    4.580211e+07  2015.00000       1.840000e+05    12.000000  2.728400e+05\n",
      "max    4.581665e+07  2020.00000       2.147484e+09    16.000000  2.885210e+06\n",
      "\n",
      "Median of Numeric Columns:\n",
      "\n",
      "Id                   45776194.0\n",
      "Prod_Year                2012.0\n",
      "Kilometers_Driven      124509.0\n",
      "Airbags                     6.0\n",
      "Price                  172490.0\n",
      "dtype: float64\n"
     ]
    }
   ],
   "source": [
    "#Data Inspection and Summary Statistics\n",
    "\n",
    "import pandas as pd\n",
    "\n",
    "# Load the dataset (assume it's already loaded as df)\n",
    "df = pd.read_csv('E:/Cuvette Data Science Program/Cuvette/Machine_Learning/Exercise 4X008/car price.csv')\n",
    "\n",
    "# Column names and data types\n",
    "print(\"\\nColumn Names and Data Types:\\n\")\n",
    "print(df.dtypes)\n",
    "\n",
    "# First 5 rows\n",
    "print(\"\\nFirst 5 Rows:\\n\")\n",
    "print(df.head())\n",
    "\n",
    "# Summary statistics for numeric columns\n",
    "print(\"\\nSummary Statistics (Numeric):\\n\")\n",
    "print(df.describe())\n",
    "\n",
    "# Median separately (not included in describe by default)\n",
    "print(\"\\nMedian of Numeric Columns:\\n\")\n",
    "print(df.median(numeric_only=True))\n"
   ]
  },
  {
   "cell_type": "code",
   "execution_count": 4,
   "id": "01ed33fb-f657-4ec5-9240-94d0000745de",
   "metadata": {},
   "outputs": [
    {
     "name": "stdout",
     "output_type": "stream",
     "text": [
      "\n",
      "Missing Values per Column:\n",
      "\n",
      "Id                     0\n",
      "Manufacturer           0\n",
      "Model                  0\n",
      "Prod_Year              0\n",
      "Category               0\n",
      "Leather_Interioe       0\n",
      "Fuel_Type              0\n",
      "Engine Volume          0\n",
      "Kilometers_Driven     86\n",
      "Gear_Box_Type          0\n",
      "Drive_Wheel            0\n",
      "Selling_Date           0\n",
      "Wheel                  0\n",
      "Color                  0\n",
      "Airbags              169\n",
      "Price                  0\n",
      "dtype: int64\n"
     ]
    }
   ],
   "source": [
    "# Missing Value Treatment\n",
    "# Check total missing values per column\n",
    "print(\"\\nMissing Values per Column:\\n\")\n",
    "print(df.isnull().sum())\n"
   ]
  },
  {
   "cell_type": "code",
   "execution_count": 8,
   "id": "acc73f8f-06fb-453b-ba0d-8bf8cf1264f7",
   "metadata": {},
   "outputs": [],
   "source": [
    "# Handle Missing Data by Filling with Mean\n",
    "# Fill missing values in numeric columns with their mean\n",
    "df['Kilometers_Driven'] = df['Kilometers_Driven'].fillna(df['Kilometers_Driven'].mean())\n",
    "df['Airbags'] = df['Airbags'].fillna(df['Airbags'].mean())\n",
    "\n"
   ]
  },
  {
   "cell_type": "code",
   "execution_count": null,
   "id": "7303462f-8d3d-4f54-93e7-fa1528050deb",
   "metadata": {},
   "outputs": [],
   "source": []
  }
 ],
 "metadata": {
  "kernelspec": {
   "display_name": "Python [conda env:base] *",
   "language": "python",
   "name": "conda-base-py"
  },
  "language_info": {
   "codemirror_mode": {
    "name": "ipython",
    "version": 3
   },
   "file_extension": ".py",
   "mimetype": "text/x-python",
   "name": "python",
   "nbconvert_exporter": "python",
   "pygments_lexer": "ipython3",
   "version": "3.12.7"
  }
 },
 "nbformat": 4,
 "nbformat_minor": 5
}
